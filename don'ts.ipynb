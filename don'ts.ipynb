{
 "cells": [
  {
   "cell_type": "code",
   "execution_count": 1,
   "metadata": {},
   "outputs": [],
   "source": [
    "import pandas as pd \n",
    "# from sklearn.preprocessing import MinMaxScaler"
   ]
  },
  {
   "cell_type": "code",
   "execution_count": 2,
   "metadata": {},
   "outputs": [
    {
     "output_type": "execute_result",
     "data": {
      "text/plain": "   beds  baths  area    hoa  parking  year  floor exposure elevator     price\n0     1      1   700  230.0        0  1895      2        W       No  199000.0\n1     1      1   750  546.0        1  1951      4        W      Yes  185000.0\n2     1      1   985  424.0        1  1892      3        W      Yes  210000.0\n3     2      2  1200  973.0        1  1965      8        E      Yes  209900.0\n4     3      2  1600  150.0        0  2020      3        E       No  279000.0",
      "text/html": "<div>\n<style scoped>\n    .dataframe tbody tr th:only-of-type {\n        vertical-align: middle;\n    }\n\n    .dataframe tbody tr th {\n        vertical-align: top;\n    }\n\n    .dataframe thead th {\n        text-align: right;\n    }\n</style>\n<table border=\"1\" class=\"dataframe\">\n  <thead>\n    <tr style=\"text-align: right;\">\n      <th></th>\n      <th>beds</th>\n      <th>baths</th>\n      <th>area</th>\n      <th>hoa</th>\n      <th>parking</th>\n      <th>year</th>\n      <th>floor</th>\n      <th>exposure</th>\n      <th>elevator</th>\n      <th>price</th>\n    </tr>\n  </thead>\n  <tbody>\n    <tr>\n      <th>0</th>\n      <td>1</td>\n      <td>1</td>\n      <td>700</td>\n      <td>230.0</td>\n      <td>0</td>\n      <td>1895</td>\n      <td>2</td>\n      <td>W</td>\n      <td>No</td>\n      <td>199000.0</td>\n    </tr>\n    <tr>\n      <th>1</th>\n      <td>1</td>\n      <td>1</td>\n      <td>750</td>\n      <td>546.0</td>\n      <td>1</td>\n      <td>1951</td>\n      <td>4</td>\n      <td>W</td>\n      <td>Yes</td>\n      <td>185000.0</td>\n    </tr>\n    <tr>\n      <th>2</th>\n      <td>1</td>\n      <td>1</td>\n      <td>985</td>\n      <td>424.0</td>\n      <td>1</td>\n      <td>1892</td>\n      <td>3</td>\n      <td>W</td>\n      <td>Yes</td>\n      <td>210000.0</td>\n    </tr>\n    <tr>\n      <th>3</th>\n      <td>2</td>\n      <td>2</td>\n      <td>1200</td>\n      <td>973.0</td>\n      <td>1</td>\n      <td>1965</td>\n      <td>8</td>\n      <td>E</td>\n      <td>Yes</td>\n      <td>209900.0</td>\n    </tr>\n    <tr>\n      <th>4</th>\n      <td>3</td>\n      <td>2</td>\n      <td>1600</td>\n      <td>150.0</td>\n      <td>0</td>\n      <td>2020</td>\n      <td>3</td>\n      <td>E</td>\n      <td>No</td>\n      <td>279000.0</td>\n    </tr>\n  </tbody>\n</table>\n</div>"
     },
     "metadata": {},
     "execution_count": 2
    }
   ],
   "source": [
    "raw = pd.read_csv('apartments.csv')\n",
    "raw"
   ]
  },
  {
   "cell_type": "code",
   "execution_count": 3,
   "metadata": {},
   "outputs": [],
   "source": [
    "df = raw.copy()"
   ]
  },
  {
   "cell_type": "code",
   "execution_count": 4,
   "metadata": {},
   "outputs": [],
   "source": [
    "df['exposure'] = df.apply(lambda r: 1 if r['exposure'] == 'E' else 0, axis=1)"
   ]
  },
  {
   "cell_type": "code",
   "execution_count": 5,
   "metadata": {},
   "outputs": [],
   "source": [
    "df['elevator'] = df.apply(lambda r: 1 if r['elevator'] == 'Yes' else 0, axis=1)"
   ]
  },
  {
   "cell_type": "code",
   "execution_count": 6,
   "metadata": {},
   "outputs": [
    {
     "output_type": "execute_result",
     "data": {
      "text/plain": "   beds  baths  area    hoa  parking  year  floor  exposure  elevator  \\\n0     1      1   700  230.0        0  1895      2         0         0   \n1     1      1   750  546.0        1  1951      4         0         1   \n2     1      1   985  424.0        1  1892      3         0         1   \n3     2      2  1200  973.0        1  1965      8         1         1   \n4     3      2  1600  150.0        0  2020      3         1         0   \n\n      price  \n0  199000.0  \n1  185000.0  \n2  210000.0  \n3  209900.0  \n4  279000.0  ",
      "text/html": "<div>\n<style scoped>\n    .dataframe tbody tr th:only-of-type {\n        vertical-align: middle;\n    }\n\n    .dataframe tbody tr th {\n        vertical-align: top;\n    }\n\n    .dataframe thead th {\n        text-align: right;\n    }\n</style>\n<table border=\"1\" class=\"dataframe\">\n  <thead>\n    <tr style=\"text-align: right;\">\n      <th></th>\n      <th>beds</th>\n      <th>baths</th>\n      <th>area</th>\n      <th>hoa</th>\n      <th>parking</th>\n      <th>year</th>\n      <th>floor</th>\n      <th>exposure</th>\n      <th>elevator</th>\n      <th>price</th>\n    </tr>\n  </thead>\n  <tbody>\n    <tr>\n      <th>0</th>\n      <td>1</td>\n      <td>1</td>\n      <td>700</td>\n      <td>230.0</td>\n      <td>0</td>\n      <td>1895</td>\n      <td>2</td>\n      <td>0</td>\n      <td>0</td>\n      <td>199000.0</td>\n    </tr>\n    <tr>\n      <th>1</th>\n      <td>1</td>\n      <td>1</td>\n      <td>750</td>\n      <td>546.0</td>\n      <td>1</td>\n      <td>1951</td>\n      <td>4</td>\n      <td>0</td>\n      <td>1</td>\n      <td>185000.0</td>\n    </tr>\n    <tr>\n      <th>2</th>\n      <td>1</td>\n      <td>1</td>\n      <td>985</td>\n      <td>424.0</td>\n      <td>1</td>\n      <td>1892</td>\n      <td>3</td>\n      <td>0</td>\n      <td>1</td>\n      <td>210000.0</td>\n    </tr>\n    <tr>\n      <th>3</th>\n      <td>2</td>\n      <td>2</td>\n      <td>1200</td>\n      <td>973.0</td>\n      <td>1</td>\n      <td>1965</td>\n      <td>8</td>\n      <td>1</td>\n      <td>1</td>\n      <td>209900.0</td>\n    </tr>\n    <tr>\n      <th>4</th>\n      <td>3</td>\n      <td>2</td>\n      <td>1600</td>\n      <td>150.0</td>\n      <td>0</td>\n      <td>2020</td>\n      <td>3</td>\n      <td>1</td>\n      <td>0</td>\n      <td>279000.0</td>\n    </tr>\n  </tbody>\n</table>\n</div>"
     },
     "metadata": {},
     "execution_count": 6
    }
   ],
   "source": [
    "df"
   ]
  },
  {
   "cell_type": "code",
   "execution_count": 7,
   "metadata": {},
   "outputs": [],
   "source": [
    "df['tax'] = pd.Series([4213, 3916, 4446, 4444, 5906])"
   ]
  },
  {
   "cell_type": "code",
   "execution_count": 8,
   "metadata": {},
   "outputs": [
    {
     "output_type": "stream",
     "name": "stdout",
     "text": "|    |   beds |   baths |   area |   price |   tax |\n|---:|-------:|--------:|-------:|--------:|------:|\n|  0 |      1 |       1 |    700 |  199000 |  4213 |\n|  1 |      1 |       1 |    750 |  185000 |  3916 |\n|  2 |      1 |       1 |    985 |  210000 |  4446 |\n|  3 |      2 |       2 |   1200 |  209900 |  4444 |\n|  4 |      3 |       2 |   1600 |  279000 |  5906 |\n"
    }
   ],
   "source": [
    "print(df[['beds', 'baths','area', 'price', 'tax']].to_markdown())"
   ]
  },
  {
   "cell_type": "code",
   "execution_count": 9,
   "metadata": {},
   "outputs": [
    {
     "output_type": "execute_result",
     "data": {
      "text/plain": "              beds     baths      area       hoa   parking      year  \\\nbeds      1.000000  0.918559  0.956267 -0.104106 -0.408248  0.897561   \nbaths     0.918559  1.000000  0.875674  0.272740 -0.166667  0.820181   \narea      0.956267  0.875674  1.000000 -0.076332 -0.255508  0.807751   \nhoa      -0.104106  0.272740 -0.076332  1.000000  0.772903  0.013637   \nparking  -0.408248 -0.166667 -0.255508  0.772903  1.000000 -0.220884   \nyear      0.897561  0.820181  0.807751  0.013637 -0.220884  1.000000   \nfloor     0.238366  0.583874  0.236089  0.939369  0.583874  0.315923   \nexposure  0.918559  1.000000  0.875674  0.272740 -0.166667  0.820181   \nelevator -0.408248 -0.166667 -0.255508  0.772903  1.000000 -0.220884   \nprice     0.908126  0.699563  0.922492 -0.449604 -0.562763  0.720276   \ntax       0.908128  0.699681  0.922556 -0.449427 -0.562709  0.720096   \n\n             floor  exposure  elevator     price       tax  \nbeds      0.238366  0.918559 -0.408248  0.908126  0.908128  \nbaths     0.583874  1.000000 -0.166667  0.699563  0.699681  \narea      0.236089  0.875674 -0.255508  0.922492  0.922556  \nhoa       0.939369  0.272740  0.772903 -0.449604 -0.449427  \nparking   0.583874 -0.166667  1.000000 -0.562763 -0.562709  \nyear      0.315923  0.820181 -0.220884  0.720276  0.720096  \nfloor     1.000000  0.583874  0.583874 -0.138937 -0.138760  \nexposure  0.583874  1.000000 -0.166667  0.699563  0.699681  \nelevator  0.583874 -0.166667  1.000000 -0.562763 -0.562709  \nprice    -0.138937  0.699563 -0.562763  1.000000  1.000000  \ntax      -0.138760  0.699681 -0.562709  1.000000  1.000000  ",
      "text/html": "<div>\n<style scoped>\n    .dataframe tbody tr th:only-of-type {\n        vertical-align: middle;\n    }\n\n    .dataframe tbody tr th {\n        vertical-align: top;\n    }\n\n    .dataframe thead th {\n        text-align: right;\n    }\n</style>\n<table border=\"1\" class=\"dataframe\">\n  <thead>\n    <tr style=\"text-align: right;\">\n      <th></th>\n      <th>beds</th>\n      <th>baths</th>\n      <th>area</th>\n      <th>hoa</th>\n      <th>parking</th>\n      <th>year</th>\n      <th>floor</th>\n      <th>exposure</th>\n      <th>elevator</th>\n      <th>price</th>\n      <th>tax</th>\n    </tr>\n  </thead>\n  <tbody>\n    <tr>\n      <th>beds</th>\n      <td>1.000000</td>\n      <td>0.918559</td>\n      <td>0.956267</td>\n      <td>-0.104106</td>\n      <td>-0.408248</td>\n      <td>0.897561</td>\n      <td>0.238366</td>\n      <td>0.918559</td>\n      <td>-0.408248</td>\n      <td>0.908126</td>\n      <td>0.908128</td>\n    </tr>\n    <tr>\n      <th>baths</th>\n      <td>0.918559</td>\n      <td>1.000000</td>\n      <td>0.875674</td>\n      <td>0.272740</td>\n      <td>-0.166667</td>\n      <td>0.820181</td>\n      <td>0.583874</td>\n      <td>1.000000</td>\n      <td>-0.166667</td>\n      <td>0.699563</td>\n      <td>0.699681</td>\n    </tr>\n    <tr>\n      <th>area</th>\n      <td>0.956267</td>\n      <td>0.875674</td>\n      <td>1.000000</td>\n      <td>-0.076332</td>\n      <td>-0.255508</td>\n      <td>0.807751</td>\n      <td>0.236089</td>\n      <td>0.875674</td>\n      <td>-0.255508</td>\n      <td>0.922492</td>\n      <td>0.922556</td>\n    </tr>\n    <tr>\n      <th>hoa</th>\n      <td>-0.104106</td>\n      <td>0.272740</td>\n      <td>-0.076332</td>\n      <td>1.000000</td>\n      <td>0.772903</td>\n      <td>0.013637</td>\n      <td>0.939369</td>\n      <td>0.272740</td>\n      <td>0.772903</td>\n      <td>-0.449604</td>\n      <td>-0.449427</td>\n    </tr>\n    <tr>\n      <th>parking</th>\n      <td>-0.408248</td>\n      <td>-0.166667</td>\n      <td>-0.255508</td>\n      <td>0.772903</td>\n      <td>1.000000</td>\n      <td>-0.220884</td>\n      <td>0.583874</td>\n      <td>-0.166667</td>\n      <td>1.000000</td>\n      <td>-0.562763</td>\n      <td>-0.562709</td>\n    </tr>\n    <tr>\n      <th>year</th>\n      <td>0.897561</td>\n      <td>0.820181</td>\n      <td>0.807751</td>\n      <td>0.013637</td>\n      <td>-0.220884</td>\n      <td>1.000000</td>\n      <td>0.315923</td>\n      <td>0.820181</td>\n      <td>-0.220884</td>\n      <td>0.720276</td>\n      <td>0.720096</td>\n    </tr>\n    <tr>\n      <th>floor</th>\n      <td>0.238366</td>\n      <td>0.583874</td>\n      <td>0.236089</td>\n      <td>0.939369</td>\n      <td>0.583874</td>\n      <td>0.315923</td>\n      <td>1.000000</td>\n      <td>0.583874</td>\n      <td>0.583874</td>\n      <td>-0.138937</td>\n      <td>-0.138760</td>\n    </tr>\n    <tr>\n      <th>exposure</th>\n      <td>0.918559</td>\n      <td>1.000000</td>\n      <td>0.875674</td>\n      <td>0.272740</td>\n      <td>-0.166667</td>\n      <td>0.820181</td>\n      <td>0.583874</td>\n      <td>1.000000</td>\n      <td>-0.166667</td>\n      <td>0.699563</td>\n      <td>0.699681</td>\n    </tr>\n    <tr>\n      <th>elevator</th>\n      <td>-0.408248</td>\n      <td>-0.166667</td>\n      <td>-0.255508</td>\n      <td>0.772903</td>\n      <td>1.000000</td>\n      <td>-0.220884</td>\n      <td>0.583874</td>\n      <td>-0.166667</td>\n      <td>1.000000</td>\n      <td>-0.562763</td>\n      <td>-0.562709</td>\n    </tr>\n    <tr>\n      <th>price</th>\n      <td>0.908126</td>\n      <td>0.699563</td>\n      <td>0.922492</td>\n      <td>-0.449604</td>\n      <td>-0.562763</td>\n      <td>0.720276</td>\n      <td>-0.138937</td>\n      <td>0.699563</td>\n      <td>-0.562763</td>\n      <td>1.000000</td>\n      <td>1.000000</td>\n    </tr>\n    <tr>\n      <th>tax</th>\n      <td>0.908128</td>\n      <td>0.699681</td>\n      <td>0.922556</td>\n      <td>-0.449427</td>\n      <td>-0.562709</td>\n      <td>0.720096</td>\n      <td>-0.138760</td>\n      <td>0.699681</td>\n      <td>-0.562709</td>\n      <td>1.000000</td>\n      <td>1.000000</td>\n    </tr>\n  </tbody>\n</table>\n</div>"
     },
     "metadata": {},
     "execution_count": 9
    }
   ],
   "source": [
    "correlation_matrix = df.corr()\n",
    "correlation_matrix"
   ]
  },
  {
   "cell_type": "code",
   "execution_count": 10,
   "metadata": {},
   "outputs": [
    {
     "output_type": "execute_result",
     "data": {
      "text/plain": "   feature A feature B  correlation\n20  elevator   parking     1.000000\n9      baths  exposure     1.000000\n37     price       tax     1.000000\n1       area      beds     0.956267\n17     floor       hoa     0.939369\n15      area       tax     0.922556\n14      area     price     0.922492\n0      baths      beds     0.918559\n3       beds  exposure     0.918559\n5       beds       tax     0.908128\n4       beds     price     0.908126\n2       beds      year     0.897561\n7       area     baths     0.875674\n13      area  exposure     0.875674\n8      baths      year     0.820181\n24  exposure      year     0.820181\n12      area      year     0.807751\n16       hoa   parking     0.772903\n18  elevator       hoa     0.772903\n25     price      year     0.720276\n26       tax      year     0.720096",
      "text/html": "<div>\n<style scoped>\n    .dataframe tbody tr th:only-of-type {\n        vertical-align: middle;\n    }\n\n    .dataframe tbody tr th {\n        vertical-align: top;\n    }\n\n    .dataframe thead th {\n        text-align: right;\n    }\n</style>\n<table border=\"1\" class=\"dataframe\">\n  <thead>\n    <tr style=\"text-align: right;\">\n      <th></th>\n      <th>feature A</th>\n      <th>feature B</th>\n      <th>correlation</th>\n    </tr>\n  </thead>\n  <tbody>\n    <tr>\n      <th>20</th>\n      <td>elevator</td>\n      <td>parking</td>\n      <td>1.000000</td>\n    </tr>\n    <tr>\n      <th>9</th>\n      <td>baths</td>\n      <td>exposure</td>\n      <td>1.000000</td>\n    </tr>\n    <tr>\n      <th>37</th>\n      <td>price</td>\n      <td>tax</td>\n      <td>1.000000</td>\n    </tr>\n    <tr>\n      <th>1</th>\n      <td>area</td>\n      <td>beds</td>\n      <td>0.956267</td>\n    </tr>\n    <tr>\n      <th>17</th>\n      <td>floor</td>\n      <td>hoa</td>\n      <td>0.939369</td>\n    </tr>\n    <tr>\n      <th>15</th>\n      <td>area</td>\n      <td>tax</td>\n      <td>0.922556</td>\n    </tr>\n    <tr>\n      <th>14</th>\n      <td>area</td>\n      <td>price</td>\n      <td>0.922492</td>\n    </tr>\n    <tr>\n      <th>0</th>\n      <td>baths</td>\n      <td>beds</td>\n      <td>0.918559</td>\n    </tr>\n    <tr>\n      <th>3</th>\n      <td>beds</td>\n      <td>exposure</td>\n      <td>0.918559</td>\n    </tr>\n    <tr>\n      <th>5</th>\n      <td>beds</td>\n      <td>tax</td>\n      <td>0.908128</td>\n    </tr>\n    <tr>\n      <th>4</th>\n      <td>beds</td>\n      <td>price</td>\n      <td>0.908126</td>\n    </tr>\n    <tr>\n      <th>2</th>\n      <td>beds</td>\n      <td>year</td>\n      <td>0.897561</td>\n    </tr>\n    <tr>\n      <th>7</th>\n      <td>area</td>\n      <td>baths</td>\n      <td>0.875674</td>\n    </tr>\n    <tr>\n      <th>13</th>\n      <td>area</td>\n      <td>exposure</td>\n      <td>0.875674</td>\n    </tr>\n    <tr>\n      <th>8</th>\n      <td>baths</td>\n      <td>year</td>\n      <td>0.820181</td>\n    </tr>\n    <tr>\n      <th>24</th>\n      <td>exposure</td>\n      <td>year</td>\n      <td>0.820181</td>\n    </tr>\n    <tr>\n      <th>12</th>\n      <td>area</td>\n      <td>year</td>\n      <td>0.807751</td>\n    </tr>\n    <tr>\n      <th>16</th>\n      <td>hoa</td>\n      <td>parking</td>\n      <td>0.772903</td>\n    </tr>\n    <tr>\n      <th>18</th>\n      <td>elevator</td>\n      <td>hoa</td>\n      <td>0.772903</td>\n    </tr>\n    <tr>\n      <th>25</th>\n      <td>price</td>\n      <td>year</td>\n      <td>0.720276</td>\n    </tr>\n    <tr>\n      <th>26</th>\n      <td>tax</td>\n      <td>year</td>\n      <td>0.720096</td>\n    </tr>\n  </tbody>\n</table>\n</div>"
     },
     "metadata": {},
     "execution_count": 10
    }
   ],
   "source": [
    "pairs = []\n",
    "features = list(correlation_matrix.columns)\n",
    "for row in features:\n",
    "    for col in features:\n",
    "        if row == col:\n",
    "            continue\n",
    "        \n",
    "        cc = correlation_matrix.loc[row, col]\n",
    "        if abs(cc) >= 0.7:\n",
    "            ls = [row, col]\n",
    "            ls.sort()\n",
    "\n",
    "            pairs.append({'feature A': ls[0], 'feature B': ls[1], 'correlation': cc})\n",
    "pd.DataFrame(pairs).drop_duplicates().sort_values(by='correlation', ascending=False)"
   ]
  },
  {
   "cell_type": "code",
   "execution_count": 11,
   "metadata": {},
   "outputs": [
    {
     "output_type": "stream",
     "name": "stdout",
     "text": "|       |   price |   tax |\n|:------|--------:|------:|\n| price |       1 |     1 |\n| tax   |       1 |     1 |\n"
    }
   ],
   "source": [
    "print(df[['price', 'tax']].corr().to_markdown())"
   ]
  },
  {
   "cell_type": "code",
   "execution_count": 12,
   "metadata": {},
   "outputs": [
    {
     "output_type": "stream",
     "name": "stdout",
     "text": "|          |   elevator |   parking |\n|:---------|-----------:|----------:|\n| elevator |          1 |         1 |\n| parking  |          1 |         1 |\n"
    }
   ],
   "source": [
    "print(df[['elevator', 'parking']].corr().to_markdown())"
   ]
  },
  {
   "cell_type": "code",
   "execution_count": 13,
   "metadata": {},
   "outputs": [],
   "source": [
    "# mms = MinMaxScaler(feature_range=(10, 100))"
   ]
  },
  {
   "cell_type": "code",
   "execution_count": 14,
   "metadata": {},
   "outputs": [],
   "source": [
    "# df = pd.DataFrame(mms.fit_transform(df), columns=df.columns)\n",
    "# df"
   ]
  },
  {
   "cell_type": "code",
   "execution_count": 15,
   "metadata": {},
   "outputs": [],
   "source": [
    "weights = {'bedrooms'     :   1.,\n",
    "           'bathrooms'     :  1.,\n",
    "           'area'          :  1.,\n",
    "           'hoa'           : -1.,\n",
    "           'parking'       :  1.,\n",
    "           'year'          :  1.,\n",
    "           'floor'         : -1.,\n",
    "           'price'         : -1.,\n",
    "           'exposure'      :  1.,\n",
    "           'elevator'      :  1.}"
   ]
  },
  {
   "cell_type": "code",
   "execution_count": 16,
   "metadata": {},
   "outputs": [],
   "source": [
    "def wpm(option, weights):\n",
    "    value = 1\n",
    "    for column in option.keys():\n",
    "        try:\n",
    "            value *= option[column] ** weights[column]\n",
    "        except KeyError:\n",
    "            pass\n",
    "    return value"
   ]
  },
  {
   "cell_type": "code",
   "execution_count": 17,
   "metadata": {},
   "outputs": [
    {
     "output_type": "execute_result",
     "data": {
      "text/plain": "   beds  baths  area    hoa  parking  year  floor  exposure  elevator  \\\n3     2      2  1200  973.0        1  1965      8         1         1   \n0     1      1   700  230.0        0  1895      2         0         0   \n1     1      1   750  546.0        1  1951      4         0         1   \n2     1      1   985  424.0        1  1892      3         0         1   \n4     3      2  1600  150.0        0  2020      3         1         0   \n\n      price   tax       wpm  \n3  209900.0  4444  0.001443  \n0  199000.0  4213  0.000000  \n1  185000.0  3916  0.000000  \n2  210000.0  4446  0.000000  \n4  279000.0  5906  0.000000  ",
      "text/html": "<div>\n<style scoped>\n    .dataframe tbody tr th:only-of-type {\n        vertical-align: middle;\n    }\n\n    .dataframe tbody tr th {\n        vertical-align: top;\n    }\n\n    .dataframe thead th {\n        text-align: right;\n    }\n</style>\n<table border=\"1\" class=\"dataframe\">\n  <thead>\n    <tr style=\"text-align: right;\">\n      <th></th>\n      <th>beds</th>\n      <th>baths</th>\n      <th>area</th>\n      <th>hoa</th>\n      <th>parking</th>\n      <th>year</th>\n      <th>floor</th>\n      <th>exposure</th>\n      <th>elevator</th>\n      <th>price</th>\n      <th>tax</th>\n      <th>wpm</th>\n    </tr>\n  </thead>\n  <tbody>\n    <tr>\n      <th>3</th>\n      <td>2</td>\n      <td>2</td>\n      <td>1200</td>\n      <td>973.0</td>\n      <td>1</td>\n      <td>1965</td>\n      <td>8</td>\n      <td>1</td>\n      <td>1</td>\n      <td>209900.0</td>\n      <td>4444</td>\n      <td>0.001443</td>\n    </tr>\n    <tr>\n      <th>0</th>\n      <td>1</td>\n      <td>1</td>\n      <td>700</td>\n      <td>230.0</td>\n      <td>0</td>\n      <td>1895</td>\n      <td>2</td>\n      <td>0</td>\n      <td>0</td>\n      <td>199000.0</td>\n      <td>4213</td>\n      <td>0.000000</td>\n    </tr>\n    <tr>\n      <th>1</th>\n      <td>1</td>\n      <td>1</td>\n      <td>750</td>\n      <td>546.0</td>\n      <td>1</td>\n      <td>1951</td>\n      <td>4</td>\n      <td>0</td>\n      <td>1</td>\n      <td>185000.0</td>\n      <td>3916</td>\n      <td>0.000000</td>\n    </tr>\n    <tr>\n      <th>2</th>\n      <td>1</td>\n      <td>1</td>\n      <td>985</td>\n      <td>424.0</td>\n      <td>1</td>\n      <td>1892</td>\n      <td>3</td>\n      <td>0</td>\n      <td>1</td>\n      <td>210000.0</td>\n      <td>4446</td>\n      <td>0.000000</td>\n    </tr>\n    <tr>\n      <th>4</th>\n      <td>3</td>\n      <td>2</td>\n      <td>1600</td>\n      <td>150.0</td>\n      <td>0</td>\n      <td>2020</td>\n      <td>3</td>\n      <td>1</td>\n      <td>0</td>\n      <td>279000.0</td>\n      <td>5906</td>\n      <td>0.000000</td>\n    </tr>\n  </tbody>\n</table>\n</div>"
     },
     "metadata": {},
     "execution_count": 17
    }
   ],
   "source": [
    "df['wpm'] = df.apply(lambda r: wpm(r, weights), axis=1)\n",
    "df.sort_values(by='wpm', ascending=False)"
   ]
  },
  {
   "cell_type": "code",
   "execution_count": 18,
   "metadata": {},
   "outputs": [
    {
     "output_type": "execute_result",
     "data": {
      "text/plain": "   beds  baths  area    hoa  parking  year  floor exposure elevator     price  \\\n3     2      2  1200  973.0        1  1965      8        E      Yes  209900.0   \n0     1      1   700  230.0        0  1895      2        W       No  199000.0   \n1     1      1   750  546.0        1  1951      4        W      Yes  185000.0   \n2     1      1   985  424.0        1  1892      3        W      Yes  210000.0   \n4     3      2  1600  150.0        0  2020      3        E       No  279000.0   \n\n        wpm  \n3  0.001443  \n0  0.000000  \n1  0.000000  \n2  0.000000  \n4  0.000000  ",
      "text/html": "<div>\n<style scoped>\n    .dataframe tbody tr th:only-of-type {\n        vertical-align: middle;\n    }\n\n    .dataframe tbody tr th {\n        vertical-align: top;\n    }\n\n    .dataframe thead th {\n        text-align: right;\n    }\n</style>\n<table border=\"1\" class=\"dataframe\">\n  <thead>\n    <tr style=\"text-align: right;\">\n      <th></th>\n      <th>beds</th>\n      <th>baths</th>\n      <th>area</th>\n      <th>hoa</th>\n      <th>parking</th>\n      <th>year</th>\n      <th>floor</th>\n      <th>exposure</th>\n      <th>elevator</th>\n      <th>price</th>\n      <th>wpm</th>\n    </tr>\n  </thead>\n  <tbody>\n    <tr>\n      <th>3</th>\n      <td>2</td>\n      <td>2</td>\n      <td>1200</td>\n      <td>973.0</td>\n      <td>1</td>\n      <td>1965</td>\n      <td>8</td>\n      <td>E</td>\n      <td>Yes</td>\n      <td>209900.0</td>\n      <td>0.001443</td>\n    </tr>\n    <tr>\n      <th>0</th>\n      <td>1</td>\n      <td>1</td>\n      <td>700</td>\n      <td>230.0</td>\n      <td>0</td>\n      <td>1895</td>\n      <td>2</td>\n      <td>W</td>\n      <td>No</td>\n      <td>199000.0</td>\n      <td>0.000000</td>\n    </tr>\n    <tr>\n      <th>1</th>\n      <td>1</td>\n      <td>1</td>\n      <td>750</td>\n      <td>546.0</td>\n      <td>1</td>\n      <td>1951</td>\n      <td>4</td>\n      <td>W</td>\n      <td>Yes</td>\n      <td>185000.0</td>\n      <td>0.000000</td>\n    </tr>\n    <tr>\n      <th>2</th>\n      <td>1</td>\n      <td>1</td>\n      <td>985</td>\n      <td>424.0</td>\n      <td>1</td>\n      <td>1892</td>\n      <td>3</td>\n      <td>W</td>\n      <td>Yes</td>\n      <td>210000.0</td>\n      <td>0.000000</td>\n    </tr>\n    <tr>\n      <th>4</th>\n      <td>3</td>\n      <td>2</td>\n      <td>1600</td>\n      <td>150.0</td>\n      <td>0</td>\n      <td>2020</td>\n      <td>3</td>\n      <td>E</td>\n      <td>No</td>\n      <td>279000.0</td>\n      <td>0.000000</td>\n    </tr>\n  </tbody>\n</table>\n</div>"
     },
     "metadata": {},
     "execution_count": 18
    }
   ],
   "source": [
    "pd.merge(raw, df['wpm'], left_index=True, right_index=True) \\\n",
    "  .sort_values(by='wpm', ascending=False)"
   ]
  },
  {
   "cell_type": "markdown",
   "metadata": {},
   "source": [
    "$0 ^ {1000} = 0$\n",
    "\n",
    "$1 ^ {1000000000} = 1$\n",
    "\n",
    "$0.5 ^ 2 = 0.25$"
   ]
  },
  {
   "cell_type": "code",
   "execution_count": 19,
   "metadata": {},
   "outputs": [
    {
     "output_type": "execute_result",
     "data": {
      "text/plain": "   beds  baths  area    hoa  parking  year  floor  exposure  elevator  \\\n0     1      1   700  230.0        2  1895      2         2         2   \n1     1      1   750  546.0        3  1951      4         2         3   \n2     1      1   985  424.0        3  1892      3         2         3   \n3     2      2  1200  973.0        3  1965      8         3         3   \n4     3      2  1600  150.0        2  2020      3         3         2   \n\n      price   tax       wpm  \n0  199000.0  4213  0.000000  \n1  185000.0  3916  0.000000  \n2  210000.0  4446  0.000000  \n3  209900.0  4444  0.001443  \n4  279000.0  5906  0.000000  ",
      "text/html": "<div>\n<style scoped>\n    .dataframe tbody tr th:only-of-type {\n        vertical-align: middle;\n    }\n\n    .dataframe tbody tr th {\n        vertical-align: top;\n    }\n\n    .dataframe thead th {\n        text-align: right;\n    }\n</style>\n<table border=\"1\" class=\"dataframe\">\n  <thead>\n    <tr style=\"text-align: right;\">\n      <th></th>\n      <th>beds</th>\n      <th>baths</th>\n      <th>area</th>\n      <th>hoa</th>\n      <th>parking</th>\n      <th>year</th>\n      <th>floor</th>\n      <th>exposure</th>\n      <th>elevator</th>\n      <th>price</th>\n      <th>tax</th>\n      <th>wpm</th>\n    </tr>\n  </thead>\n  <tbody>\n    <tr>\n      <th>0</th>\n      <td>1</td>\n      <td>1</td>\n      <td>700</td>\n      <td>230.0</td>\n      <td>2</td>\n      <td>1895</td>\n      <td>2</td>\n      <td>2</td>\n      <td>2</td>\n      <td>199000.0</td>\n      <td>4213</td>\n      <td>0.000000</td>\n    </tr>\n    <tr>\n      <th>1</th>\n      <td>1</td>\n      <td>1</td>\n      <td>750</td>\n      <td>546.0</td>\n      <td>3</td>\n      <td>1951</td>\n      <td>4</td>\n      <td>2</td>\n      <td>3</td>\n      <td>185000.0</td>\n      <td>3916</td>\n      <td>0.000000</td>\n    </tr>\n    <tr>\n      <th>2</th>\n      <td>1</td>\n      <td>1</td>\n      <td>985</td>\n      <td>424.0</td>\n      <td>3</td>\n      <td>1892</td>\n      <td>3</td>\n      <td>2</td>\n      <td>3</td>\n      <td>210000.0</td>\n      <td>4446</td>\n      <td>0.000000</td>\n    </tr>\n    <tr>\n      <th>3</th>\n      <td>2</td>\n      <td>2</td>\n      <td>1200</td>\n      <td>973.0</td>\n      <td>3</td>\n      <td>1965</td>\n      <td>8</td>\n      <td>3</td>\n      <td>3</td>\n      <td>209900.0</td>\n      <td>4444</td>\n      <td>0.001443</td>\n    </tr>\n    <tr>\n      <th>4</th>\n      <td>3</td>\n      <td>2</td>\n      <td>1600</td>\n      <td>150.0</td>\n      <td>2</td>\n      <td>2020</td>\n      <td>3</td>\n      <td>3</td>\n      <td>2</td>\n      <td>279000.0</td>\n      <td>5906</td>\n      <td>0.000000</td>\n    </tr>\n  </tbody>\n</table>\n</div>"
     },
     "metadata": {},
     "execution_count": 19
    }
   ],
   "source": [
    "df['parking'] += 2\n",
    "df['exposure'] += 2\n",
    "df['elevator'] += 2\n",
    "df"
   ]
  },
  {
   "cell_type": "code",
   "execution_count": 20,
   "metadata": {},
   "outputs": [
    {
     "output_type": "execute_result",
     "data": {
      "text/plain": "   beds  baths  area    hoa  parking  year  floor  exposure  elevator  \\\n4     3      2  1600  150.0        2  2020      3         3         2   \n2     1      1   985  424.0        3  1892      3         2         3   \n0     1      1   700  230.0        2  1895      2         2         2   \n1     1      1   750  546.0        3  1951      4         2         3   \n3     2      2  1200  973.0        3  1965      8         3         3   \n\n      price   tax       wpm  \n4  279000.0  5906  0.308913  \n2  210000.0  4446  0.125581  \n0  199000.0  4213  0.115927  \n1  185000.0  3916  0.065188  \n3  209900.0  4444  0.038967  ",
      "text/html": "<div>\n<style scoped>\n    .dataframe tbody tr th:only-of-type {\n        vertical-align: middle;\n    }\n\n    .dataframe tbody tr th {\n        vertical-align: top;\n    }\n\n    .dataframe thead th {\n        text-align: right;\n    }\n</style>\n<table border=\"1\" class=\"dataframe\">\n  <thead>\n    <tr style=\"text-align: right;\">\n      <th></th>\n      <th>beds</th>\n      <th>baths</th>\n      <th>area</th>\n      <th>hoa</th>\n      <th>parking</th>\n      <th>year</th>\n      <th>floor</th>\n      <th>exposure</th>\n      <th>elevator</th>\n      <th>price</th>\n      <th>tax</th>\n      <th>wpm</th>\n    </tr>\n  </thead>\n  <tbody>\n    <tr>\n      <th>4</th>\n      <td>3</td>\n      <td>2</td>\n      <td>1600</td>\n      <td>150.0</td>\n      <td>2</td>\n      <td>2020</td>\n      <td>3</td>\n      <td>3</td>\n      <td>2</td>\n      <td>279000.0</td>\n      <td>5906</td>\n      <td>0.308913</td>\n    </tr>\n    <tr>\n      <th>2</th>\n      <td>1</td>\n      <td>1</td>\n      <td>985</td>\n      <td>424.0</td>\n      <td>3</td>\n      <td>1892</td>\n      <td>3</td>\n      <td>2</td>\n      <td>3</td>\n      <td>210000.0</td>\n      <td>4446</td>\n      <td>0.125581</td>\n    </tr>\n    <tr>\n      <th>0</th>\n      <td>1</td>\n      <td>1</td>\n      <td>700</td>\n      <td>230.0</td>\n      <td>2</td>\n      <td>1895</td>\n      <td>2</td>\n      <td>2</td>\n      <td>2</td>\n      <td>199000.0</td>\n      <td>4213</td>\n      <td>0.115927</td>\n    </tr>\n    <tr>\n      <th>1</th>\n      <td>1</td>\n      <td>1</td>\n      <td>750</td>\n      <td>546.0</td>\n      <td>3</td>\n      <td>1951</td>\n      <td>4</td>\n      <td>2</td>\n      <td>3</td>\n      <td>185000.0</td>\n      <td>3916</td>\n      <td>0.065188</td>\n    </tr>\n    <tr>\n      <th>3</th>\n      <td>2</td>\n      <td>2</td>\n      <td>1200</td>\n      <td>973.0</td>\n      <td>3</td>\n      <td>1965</td>\n      <td>8</td>\n      <td>3</td>\n      <td>3</td>\n      <td>209900.0</td>\n      <td>4444</td>\n      <td>0.038967</td>\n    </tr>\n  </tbody>\n</table>\n</div>"
     },
     "metadata": {},
     "execution_count": 20
    }
   ],
   "source": [
    "df['wpm'] = df.apply(lambda r: wpm(r, weights), axis=1)\n",
    "df.sort_values(by='wpm', ascending=False)"
   ]
  },
  {
   "cell_type": "code",
   "execution_count": 21,
   "metadata": {},
   "outputs": [
    {
     "output_type": "execute_result",
     "data": {
      "text/plain": "   beds  baths  area    hoa  parking  year  floor exposure elevator     price  \\\n4     3      2  1600  150.0        0  2020      3        E       No  279000.0   \n2     1      1   985  424.0        1  1892      3        W      Yes  210000.0   \n0     1      1   700  230.0        0  1895      2        W       No  199000.0   \n1     1      1   750  546.0        1  1951      4        W      Yes  185000.0   \n3     2      2  1200  973.0        1  1965      8        E      Yes  209900.0   \n\n        wpm  \n4  0.308913  \n2  0.125581  \n0  0.115927  \n1  0.065188  \n3  0.038967  ",
      "text/html": "<div>\n<style scoped>\n    .dataframe tbody tr th:only-of-type {\n        vertical-align: middle;\n    }\n\n    .dataframe tbody tr th {\n        vertical-align: top;\n    }\n\n    .dataframe thead th {\n        text-align: right;\n    }\n</style>\n<table border=\"1\" class=\"dataframe\">\n  <thead>\n    <tr style=\"text-align: right;\">\n      <th></th>\n      <th>beds</th>\n      <th>baths</th>\n      <th>area</th>\n      <th>hoa</th>\n      <th>parking</th>\n      <th>year</th>\n      <th>floor</th>\n      <th>exposure</th>\n      <th>elevator</th>\n      <th>price</th>\n      <th>wpm</th>\n    </tr>\n  </thead>\n  <tbody>\n    <tr>\n      <th>4</th>\n      <td>3</td>\n      <td>2</td>\n      <td>1600</td>\n      <td>150.0</td>\n      <td>0</td>\n      <td>2020</td>\n      <td>3</td>\n      <td>E</td>\n      <td>No</td>\n      <td>279000.0</td>\n      <td>0.308913</td>\n    </tr>\n    <tr>\n      <th>2</th>\n      <td>1</td>\n      <td>1</td>\n      <td>985</td>\n      <td>424.0</td>\n      <td>1</td>\n      <td>1892</td>\n      <td>3</td>\n      <td>W</td>\n      <td>Yes</td>\n      <td>210000.0</td>\n      <td>0.125581</td>\n    </tr>\n    <tr>\n      <th>0</th>\n      <td>1</td>\n      <td>1</td>\n      <td>700</td>\n      <td>230.0</td>\n      <td>0</td>\n      <td>1895</td>\n      <td>2</td>\n      <td>W</td>\n      <td>No</td>\n      <td>199000.0</td>\n      <td>0.115927</td>\n    </tr>\n    <tr>\n      <th>1</th>\n      <td>1</td>\n      <td>1</td>\n      <td>750</td>\n      <td>546.0</td>\n      <td>1</td>\n      <td>1951</td>\n      <td>4</td>\n      <td>W</td>\n      <td>Yes</td>\n      <td>185000.0</td>\n      <td>0.065188</td>\n    </tr>\n    <tr>\n      <th>3</th>\n      <td>2</td>\n      <td>2</td>\n      <td>1200</td>\n      <td>973.0</td>\n      <td>1</td>\n      <td>1965</td>\n      <td>8</td>\n      <td>E</td>\n      <td>Yes</td>\n      <td>209900.0</td>\n      <td>0.038967</td>\n    </tr>\n  </tbody>\n</table>\n</div>"
     },
     "metadata": {},
     "execution_count": 21
    }
   ],
   "source": [
    "pd.merge(raw, df['wpm'], left_index=True, right_index=True) \\\n",
    "  .sort_values(by='wpm', ascending=False)"
   ]
  },
  {
   "cell_type": "code",
   "execution_count": null,
   "metadata": {},
   "outputs": [],
   "source": []
  }
 ],
 "metadata": {
  "language_info": {
   "name": "python",
   "codemirror_mode": {
    "name": "ipython",
    "version": 3
   },
   "version": "3.6.9-final"
  },
  "orig_nbformat": 2,
  "file_extension": ".py",
  "mimetype": "text/x-python",
  "name": "python",
  "npconvert_exporter": "python",
  "pygments_lexer": "ipython3",
  "version": 3,
  "kernelspec": {
   "name": "python36964bitvenvvirtualenv9e3b3cd1d0614a3991e81ba2d30ca3e9",
   "display_name": "Python 3.6.9 64-bit ('venv': virtualenv)"
  }
 },
 "nbformat": 4,
 "nbformat_minor": 2
}