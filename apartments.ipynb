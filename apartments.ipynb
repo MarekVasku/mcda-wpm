{
 "cells": [
  {
   "cell_type": "code",
   "execution_count": 1,
   "metadata": {},
   "outputs": [],
   "source": [
    "import pandas as pd \n",
    "from sklearn.preprocessing import MinMaxScaler"
   ]
  },
  {
   "cell_type": "code",
   "execution_count": 2,
   "metadata": {},
   "outputs": [
    {
     "output_type": "execute_result",
     "data": {
      "text/plain": "   beds  baths  area    hoa  parking  year  floor exposure elevator     price\n0     1      1   700  230.0        0  1895      2        W       No  199000.0\n1     1      1   750  546.0        1  1951      4        W      Yes  185000.0\n2     1      1   985  424.0        1  1892      3        W      Yes  210000.0\n3     2      2  1200  973.0        1  1965      8        E      Yes  209900.0\n4     3      2  1600  150.0        0  2020      3        E       No  279000.0",
      "text/html": "<div>\n<style scoped>\n    .dataframe tbody tr th:only-of-type {\n        vertical-align: middle;\n    }\n\n    .dataframe tbody tr th {\n        vertical-align: top;\n    }\n\n    .dataframe thead th {\n        text-align: right;\n    }\n</style>\n<table border=\"1\" class=\"dataframe\">\n  <thead>\n    <tr style=\"text-align: right;\">\n      <th></th>\n      <th>beds</th>\n      <th>baths</th>\n      <th>area</th>\n      <th>hoa</th>\n      <th>parking</th>\n      <th>year</th>\n      <th>floor</th>\n      <th>exposure</th>\n      <th>elevator</th>\n      <th>price</th>\n    </tr>\n  </thead>\n  <tbody>\n    <tr>\n      <th>0</th>\n      <td>1</td>\n      <td>1</td>\n      <td>700</td>\n      <td>230.0</td>\n      <td>0</td>\n      <td>1895</td>\n      <td>2</td>\n      <td>W</td>\n      <td>No</td>\n      <td>199000.0</td>\n    </tr>\n    <tr>\n      <th>1</th>\n      <td>1</td>\n      <td>1</td>\n      <td>750</td>\n      <td>546.0</td>\n      <td>1</td>\n      <td>1951</td>\n      <td>4</td>\n      <td>W</td>\n      <td>Yes</td>\n      <td>185000.0</td>\n    </tr>\n    <tr>\n      <th>2</th>\n      <td>1</td>\n      <td>1</td>\n      <td>985</td>\n      <td>424.0</td>\n      <td>1</td>\n      <td>1892</td>\n      <td>3</td>\n      <td>W</td>\n      <td>Yes</td>\n      <td>210000.0</td>\n    </tr>\n    <tr>\n      <th>3</th>\n      <td>2</td>\n      <td>2</td>\n      <td>1200</td>\n      <td>973.0</td>\n      <td>1</td>\n      <td>1965</td>\n      <td>8</td>\n      <td>E</td>\n      <td>Yes</td>\n      <td>209900.0</td>\n    </tr>\n    <tr>\n      <th>4</th>\n      <td>3</td>\n      <td>2</td>\n      <td>1600</td>\n      <td>150.0</td>\n      <td>0</td>\n      <td>2020</td>\n      <td>3</td>\n      <td>E</td>\n      <td>No</td>\n      <td>279000.0</td>\n    </tr>\n  </tbody>\n</table>\n</div>"
     },
     "metadata": {},
     "execution_count": 2
    }
   ],
   "source": [
    "raw = pd.read_csv('apartments.csv')\n",
    "raw"
   ]
  },
  {
   "cell_type": "code",
   "execution_count": 3,
   "metadata": {},
   "outputs": [
    {
     "output_type": "stream",
     "name": "stdout",
     "text": "||beds|baths|area|hoa|parking|year|floor|exposure|elevator|price|\n|---:|-------:|--------:|-------:|------:|----------:|-------:|--------:|:-----------|:-----------|--------:|\n|0|1|1|700|230|0|1895|2|W|No|199000|\n|1|1|1|750|546|1|1951|4|W|Yes|185000|\n|2|1|1|985|424|1|1892|3|W|Yes|210000|\n|3|2|2|1200|973|1|1965|8|E|Yes|209900|\n|4|3|2|1600|150|0|2020|3|E|No|279000|\n"
    }
   ],
   "source": [
    "print(raw.to_markdown().replace(' ', ''))"
   ]
  },
  {
   "cell_type": "code",
   "execution_count": 4,
   "metadata": {},
   "outputs": [],
   "source": [
    "df = raw.copy()"
   ]
  },
  {
   "cell_type": "code",
   "execution_count": 5,
   "metadata": {},
   "outputs": [],
   "source": [
    "df['exposure'] = df.apply(lambda r: 1 if r['exposure'] == 'E' else 0, axis=1)"
   ]
  },
  {
   "cell_type": "code",
   "execution_count": 6,
   "metadata": {},
   "outputs": [],
   "source": [
    "df['elevator'] = df.apply(lambda r: 1 if r['elevator'] == 'Yes' else 0, axis=1)"
   ]
  },
  {
   "cell_type": "code",
   "execution_count": 7,
   "metadata": {},
   "outputs": [
    {
     "output_type": "execute_result",
     "data": {
      "text/plain": "   beds  baths  area    hoa  parking  year  floor  exposure  elevator  \\\n0     1      1   700  230.0        0  1895      2         0         0   \n1     1      1   750  546.0        1  1951      4         0         1   \n2     1      1   985  424.0        1  1892      3         0         1   \n3     2      2  1200  973.0        1  1965      8         1         1   \n4     3      2  1600  150.0        0  2020      3         1         0   \n\n      price  \n0  199000.0  \n1  185000.0  \n2  210000.0  \n3  209900.0  \n4  279000.0  ",
      "text/html": "<div>\n<style scoped>\n    .dataframe tbody tr th:only-of-type {\n        vertical-align: middle;\n    }\n\n    .dataframe tbody tr th {\n        vertical-align: top;\n    }\n\n    .dataframe thead th {\n        text-align: right;\n    }\n</style>\n<table border=\"1\" class=\"dataframe\">\n  <thead>\n    <tr style=\"text-align: right;\">\n      <th></th>\n      <th>beds</th>\n      <th>baths</th>\n      <th>area</th>\n      <th>hoa</th>\n      <th>parking</th>\n      <th>year</th>\n      <th>floor</th>\n      <th>exposure</th>\n      <th>elevator</th>\n      <th>price</th>\n    </tr>\n  </thead>\n  <tbody>\n    <tr>\n      <th>0</th>\n      <td>1</td>\n      <td>1</td>\n      <td>700</td>\n      <td>230.0</td>\n      <td>0</td>\n      <td>1895</td>\n      <td>2</td>\n      <td>0</td>\n      <td>0</td>\n      <td>199000.0</td>\n    </tr>\n    <tr>\n      <th>1</th>\n      <td>1</td>\n      <td>1</td>\n      <td>750</td>\n      <td>546.0</td>\n      <td>1</td>\n      <td>1951</td>\n      <td>4</td>\n      <td>0</td>\n      <td>1</td>\n      <td>185000.0</td>\n    </tr>\n    <tr>\n      <th>2</th>\n      <td>1</td>\n      <td>1</td>\n      <td>985</td>\n      <td>424.0</td>\n      <td>1</td>\n      <td>1892</td>\n      <td>3</td>\n      <td>0</td>\n      <td>1</td>\n      <td>210000.0</td>\n    </tr>\n    <tr>\n      <th>3</th>\n      <td>2</td>\n      <td>2</td>\n      <td>1200</td>\n      <td>973.0</td>\n      <td>1</td>\n      <td>1965</td>\n      <td>8</td>\n      <td>1</td>\n      <td>1</td>\n      <td>209900.0</td>\n    </tr>\n    <tr>\n      <th>4</th>\n      <td>3</td>\n      <td>2</td>\n      <td>1600</td>\n      <td>150.0</td>\n      <td>0</td>\n      <td>2020</td>\n      <td>3</td>\n      <td>1</td>\n      <td>0</td>\n      <td>279000.0</td>\n    </tr>\n  </tbody>\n</table>\n</div>"
     },
     "metadata": {},
     "execution_count": 7
    }
   ],
   "source": [
    "df"
   ]
  },
  {
   "cell_type": "code",
   "execution_count": 8,
   "metadata": {},
   "outputs": [
    {
     "output_type": "stream",
     "name": "stdout",
     "text": "||beds|baths|area|hoa|parking|year|floor|exposure|elevator|price|\n|---:|-------:|--------:|-------:|------:|----------:|-------:|--------:|-----------:|-----------:|--------:|\n|0|1|1|700|230|0|1895|2|0|0|199000|\n|1|1|1|750|546|1|1951|4|0|1|185000|\n|2|1|1|985|424|1|1892|3|0|1|210000|\n|3|2|2|1200|973|1|1965|8|1|1|209900|\n|4|3|2|1600|150|0|2020|3|1|0|279000|\n"
    }
   ],
   "source": [
    "print(df.to_markdown().replace(' ', ''))"
   ]
  },
  {
   "cell_type": "code",
   "execution_count": 9,
   "metadata": {},
   "outputs": [
    {
     "output_type": "execute_result",
     "data": {
      "text/plain": "           beds     baths         area         hoa   parking         year  \\\ncount  5.000000  5.000000     5.000000    5.000000  5.000000     5.000000   \nmean   1.600000  1.400000  1047.000000  464.600000  0.600000  1944.600000   \nstd    0.894427  0.547723   367.994565  324.328229  0.547723    53.313225   \nmin    1.000000  1.000000   700.000000  150.000000  0.000000  1892.000000   \n25%    1.000000  1.000000   750.000000  230.000000  0.000000  1895.000000   \n50%    1.000000  1.000000   985.000000  424.000000  1.000000  1951.000000   \n75%    2.000000  2.000000  1200.000000  546.000000  1.000000  1965.000000   \nmax    3.000000  2.000000  1600.000000  973.000000  1.000000  2020.000000   \n\n          floor  exposure  elevator          price  \ncount  5.000000  5.000000  5.000000       5.000000  \nmean   4.000000  0.400000  0.600000  216580.000000  \nstd    2.345208  0.547723  0.547723   36368.007919  \nmin    2.000000  0.000000  0.000000  185000.000000  \n25%    3.000000  0.000000  0.000000  199000.000000  \n50%    3.000000  0.000000  1.000000  209900.000000  \n75%    4.000000  1.000000  1.000000  210000.000000  \nmax    8.000000  1.000000  1.000000  279000.000000  ",
      "text/html": "<div>\n<style scoped>\n    .dataframe tbody tr th:only-of-type {\n        vertical-align: middle;\n    }\n\n    .dataframe tbody tr th {\n        vertical-align: top;\n    }\n\n    .dataframe thead th {\n        text-align: right;\n    }\n</style>\n<table border=\"1\" class=\"dataframe\">\n  <thead>\n    <tr style=\"text-align: right;\">\n      <th></th>\n      <th>beds</th>\n      <th>baths</th>\n      <th>area</th>\n      <th>hoa</th>\n      <th>parking</th>\n      <th>year</th>\n      <th>floor</th>\n      <th>exposure</th>\n      <th>elevator</th>\n      <th>price</th>\n    </tr>\n  </thead>\n  <tbody>\n    <tr>\n      <th>count</th>\n      <td>5.000000</td>\n      <td>5.000000</td>\n      <td>5.000000</td>\n      <td>5.000000</td>\n      <td>5.000000</td>\n      <td>5.000000</td>\n      <td>5.000000</td>\n      <td>5.000000</td>\n      <td>5.000000</td>\n      <td>5.000000</td>\n    </tr>\n    <tr>\n      <th>mean</th>\n      <td>1.600000</td>\n      <td>1.400000</td>\n      <td>1047.000000</td>\n      <td>464.600000</td>\n      <td>0.600000</td>\n      <td>1944.600000</td>\n      <td>4.000000</td>\n      <td>0.400000</td>\n      <td>0.600000</td>\n      <td>216580.000000</td>\n    </tr>\n    <tr>\n      <th>std</th>\n      <td>0.894427</td>\n      <td>0.547723</td>\n      <td>367.994565</td>\n      <td>324.328229</td>\n      <td>0.547723</td>\n      <td>53.313225</td>\n      <td>2.345208</td>\n      <td>0.547723</td>\n      <td>0.547723</td>\n      <td>36368.007919</td>\n    </tr>\n    <tr>\n      <th>min</th>\n      <td>1.000000</td>\n      <td>1.000000</td>\n      <td>700.000000</td>\n      <td>150.000000</td>\n      <td>0.000000</td>\n      <td>1892.000000</td>\n      <td>2.000000</td>\n      <td>0.000000</td>\n      <td>0.000000</td>\n      <td>185000.000000</td>\n    </tr>\n    <tr>\n      <th>25%</th>\n      <td>1.000000</td>\n      <td>1.000000</td>\n      <td>750.000000</td>\n      <td>230.000000</td>\n      <td>0.000000</td>\n      <td>1895.000000</td>\n      <td>3.000000</td>\n      <td>0.000000</td>\n      <td>0.000000</td>\n      <td>199000.000000</td>\n    </tr>\n    <tr>\n      <th>50%</th>\n      <td>1.000000</td>\n      <td>1.000000</td>\n      <td>985.000000</td>\n      <td>424.000000</td>\n      <td>1.000000</td>\n      <td>1951.000000</td>\n      <td>3.000000</td>\n      <td>0.000000</td>\n      <td>1.000000</td>\n      <td>209900.000000</td>\n    </tr>\n    <tr>\n      <th>75%</th>\n      <td>2.000000</td>\n      <td>2.000000</td>\n      <td>1200.000000</td>\n      <td>546.000000</td>\n      <td>1.000000</td>\n      <td>1965.000000</td>\n      <td>4.000000</td>\n      <td>1.000000</td>\n      <td>1.000000</td>\n      <td>210000.000000</td>\n    </tr>\n    <tr>\n      <th>max</th>\n      <td>3.000000</td>\n      <td>2.000000</td>\n      <td>1600.000000</td>\n      <td>973.000000</td>\n      <td>1.000000</td>\n      <td>2020.000000</td>\n      <td>8.000000</td>\n      <td>1.000000</td>\n      <td>1.000000</td>\n      <td>279000.000000</td>\n    </tr>\n  </tbody>\n</table>\n</div>"
     },
     "metadata": {},
     "execution_count": 9
    }
   ],
   "source": [
    "df.describe()"
   ]
  },
  {
   "cell_type": "code",
   "execution_count": 10,
   "metadata": {},
   "outputs": [],
   "source": [
    "mms = MinMaxScaler(feature_range=(10, 100))"
   ]
  },
  {
   "cell_type": "code",
   "execution_count": 11,
   "metadata": {},
   "outputs": [
    {
     "output_type": "execute_result",
     "data": {
      "text/plain": "    beds  baths   area         hoa  parking        year  floor  exposure  \\\n0   10.0   10.0   10.0   18.748481     10.0   12.109375   10.0      10.0   \n1   10.0   10.0   15.0   53.304982    100.0   51.484375   40.0      10.0   \n2   10.0   10.0   38.5   39.963548    100.0   10.000000   25.0      10.0   \n3   55.0  100.0   60.0  100.000000    100.0   61.328125  100.0     100.0   \n4  100.0  100.0  100.0   10.000000     10.0  100.000000   25.0     100.0   \n\n   elevator       price  \n0      10.0   23.404255  \n1     100.0   10.000000  \n2     100.0   33.936170  \n3     100.0   33.840426  \n4      10.0  100.000000  ",
      "text/html": "<div>\n<style scoped>\n    .dataframe tbody tr th:only-of-type {\n        vertical-align: middle;\n    }\n\n    .dataframe tbody tr th {\n        vertical-align: top;\n    }\n\n    .dataframe thead th {\n        text-align: right;\n    }\n</style>\n<table border=\"1\" class=\"dataframe\">\n  <thead>\n    <tr style=\"text-align: right;\">\n      <th></th>\n      <th>beds</th>\n      <th>baths</th>\n      <th>area</th>\n      <th>hoa</th>\n      <th>parking</th>\n      <th>year</th>\n      <th>floor</th>\n      <th>exposure</th>\n      <th>elevator</th>\n      <th>price</th>\n    </tr>\n  </thead>\n  <tbody>\n    <tr>\n      <th>0</th>\n      <td>10.0</td>\n      <td>10.0</td>\n      <td>10.0</td>\n      <td>18.748481</td>\n      <td>10.0</td>\n      <td>12.109375</td>\n      <td>10.0</td>\n      <td>10.0</td>\n      <td>10.0</td>\n      <td>23.404255</td>\n    </tr>\n    <tr>\n      <th>1</th>\n      <td>10.0</td>\n      <td>10.0</td>\n      <td>15.0</td>\n      <td>53.304982</td>\n      <td>100.0</td>\n      <td>51.484375</td>\n      <td>40.0</td>\n      <td>10.0</td>\n      <td>100.0</td>\n      <td>10.000000</td>\n    </tr>\n    <tr>\n      <th>2</th>\n      <td>10.0</td>\n      <td>10.0</td>\n      <td>38.5</td>\n      <td>39.963548</td>\n      <td>100.0</td>\n      <td>10.000000</td>\n      <td>25.0</td>\n      <td>10.0</td>\n      <td>100.0</td>\n      <td>33.936170</td>\n    </tr>\n    <tr>\n      <th>3</th>\n      <td>55.0</td>\n      <td>100.0</td>\n      <td>60.0</td>\n      <td>100.000000</td>\n      <td>100.0</td>\n      <td>61.328125</td>\n      <td>100.0</td>\n      <td>100.0</td>\n      <td>100.0</td>\n      <td>33.840426</td>\n    </tr>\n    <tr>\n      <th>4</th>\n      <td>100.0</td>\n      <td>100.0</td>\n      <td>100.0</td>\n      <td>10.000000</td>\n      <td>10.0</td>\n      <td>100.000000</td>\n      <td>25.0</td>\n      <td>100.0</td>\n      <td>10.0</td>\n      <td>100.000000</td>\n    </tr>\n  </tbody>\n</table>\n</div>"
     },
     "metadata": {},
     "execution_count": 11
    }
   ],
   "source": [
    "df = pd.DataFrame(mms.fit_transform(df), columns=df.columns)\n",
    "df"
   ]
  },
  {
   "cell_type": "code",
   "execution_count": 12,
   "metadata": {},
   "outputs": [
    {
     "output_type": "stream",
     "name": "stdout",
     "text": "||beds|baths|area|hoa|parking|year|floor|exposure|elevator|price|\n|---:|-------:|--------:|-------:|---------:|----------:|---------:|--------:|-----------:|-----------:|---------:|\n|0|10|10|10|18.7485|10|12.1094|10|10|10|23.4043|\n|1|10|10|15|53.305|100|51.4844|40|10|100|10|\n|2|10|10|38.5|39.9635|100|10|25|10|100|33.9362|\n|3|55|100|60|100|100|61.3281|100|100|100|33.8404|\n|4|100|100|100|10|10|100|25|100|10|100|\n"
    }
   ],
   "source": [
    "print(df.to_markdown().replace(' ', ''))"
   ]
  },
  {
   "cell_type": "code",
   "execution_count": 13,
   "metadata": {},
   "outputs": [],
   "source": [
    "weights = {'beds'          :  1.,\n",
    "           'baths'         :  1.,\n",
    "           'area'          :  1.,\n",
    "           'hoa'           : -1.,\n",
    "           'parking'       :  1.,\n",
    "           'year'          :  1.,\n",
    "           'floor'         : -1.,\n",
    "           'price'         : -1.,\n",
    "           'exposure'      :  1.,\n",
    "           'elevator'      :  1.}"
   ]
  },
  {
   "cell_type": "code",
   "execution_count": 14,
   "metadata": {},
   "outputs": [
    {
     "output_type": "execute_result",
     "data": {
      "text/plain": "2759.6933065525714"
     },
     "metadata": {},
     "execution_count": 14
    }
   ],
   "source": [
    "(10        **  1) * \\\n",
    "(10        **  1) * \\\n",
    "(10        **  1) * \\\n",
    "(18.748481 ** -1) * \\\n",
    "(10        **  1) * \\\n",
    "(12.109375 **  1) * \\\n",
    "(10        ** -1) * \\\n",
    "(10        **  1) * \\\n",
    "(10        **  1) * \\\n",
    "(23.404255 ** -1)"
   ]
  },
  {
   "cell_type": "code",
   "execution_count": 15,
   "metadata": {},
   "outputs": [],
   "source": [
    "def wpm(option, weights):\n",
    "    value = 1\n",
    "    for column in option.keys():\n",
    "        try:\n",
    "            value *= option[column] ** weights[column]\n",
    "        except KeyError:\n",
    "            pass\n",
    "    return value"
   ]
  },
  {
   "cell_type": "code",
   "execution_count": 16,
   "metadata": {},
   "outputs": [
    {
     "output_type": "execute_result",
     "data": {
      "text/plain": "2759.6932444176073"
     },
     "metadata": {},
     "execution_count": 16
    }
   ],
   "source": [
    "wpm(df.loc[0], weights)"
   ]
  },
  {
   "cell_type": "code",
   "execution_count": 17,
   "metadata": {},
   "outputs": [
    {
     "output_type": "execute_result",
     "data": {
      "text/plain": "    beds  baths   area         hoa  parking        year  floor  exposure  \\\n3   55.0  100.0   60.0  100.000000    100.0   61.328125  100.0     100.0   \n4  100.0  100.0  100.0   10.000000     10.0  100.000000   25.0     100.0   \n1   10.0   10.0   15.0   53.304982    100.0   51.484375   40.0      10.0   \n2   10.0   10.0   38.5   39.963548    100.0   10.000000   25.0      10.0   \n0   10.0   10.0   10.0   18.748481     10.0   12.109375   10.0      10.0   \n\n   elevator       price           wpm  \n3     100.0   33.840426  5.980504e+07  \n4      10.0  100.000000  4.000000e+07  \n1     100.0   10.000000  3.621921e+05  \n2     100.0   33.936170  1.135518e+05  \n0      10.0   23.404255  2.759693e+03  ",
      "text/html": "<div>\n<style scoped>\n    .dataframe tbody tr th:only-of-type {\n        vertical-align: middle;\n    }\n\n    .dataframe tbody tr th {\n        vertical-align: top;\n    }\n\n    .dataframe thead th {\n        text-align: right;\n    }\n</style>\n<table border=\"1\" class=\"dataframe\">\n  <thead>\n    <tr style=\"text-align: right;\">\n      <th></th>\n      <th>beds</th>\n      <th>baths</th>\n      <th>area</th>\n      <th>hoa</th>\n      <th>parking</th>\n      <th>year</th>\n      <th>floor</th>\n      <th>exposure</th>\n      <th>elevator</th>\n      <th>price</th>\n      <th>wpm</th>\n    </tr>\n  </thead>\n  <tbody>\n    <tr>\n      <th>3</th>\n      <td>55.0</td>\n      <td>100.0</td>\n      <td>60.0</td>\n      <td>100.000000</td>\n      <td>100.0</td>\n      <td>61.328125</td>\n      <td>100.0</td>\n      <td>100.0</td>\n      <td>100.0</td>\n      <td>33.840426</td>\n      <td>5.980504e+07</td>\n    </tr>\n    <tr>\n      <th>4</th>\n      <td>100.0</td>\n      <td>100.0</td>\n      <td>100.0</td>\n      <td>10.000000</td>\n      <td>10.0</td>\n      <td>100.000000</td>\n      <td>25.0</td>\n      <td>100.0</td>\n      <td>10.0</td>\n      <td>100.000000</td>\n      <td>4.000000e+07</td>\n    </tr>\n    <tr>\n      <th>1</th>\n      <td>10.0</td>\n      <td>10.0</td>\n      <td>15.0</td>\n      <td>53.304982</td>\n      <td>100.0</td>\n      <td>51.484375</td>\n      <td>40.0</td>\n      <td>10.0</td>\n      <td>100.0</td>\n      <td>10.000000</td>\n      <td>3.621921e+05</td>\n    </tr>\n    <tr>\n      <th>2</th>\n      <td>10.0</td>\n      <td>10.0</td>\n      <td>38.5</td>\n      <td>39.963548</td>\n      <td>100.0</td>\n      <td>10.000000</td>\n      <td>25.0</td>\n      <td>10.0</td>\n      <td>100.0</td>\n      <td>33.936170</td>\n      <td>1.135518e+05</td>\n    </tr>\n    <tr>\n      <th>0</th>\n      <td>10.0</td>\n      <td>10.0</td>\n      <td>10.0</td>\n      <td>18.748481</td>\n      <td>10.0</td>\n      <td>12.109375</td>\n      <td>10.0</td>\n      <td>10.0</td>\n      <td>10.0</td>\n      <td>23.404255</td>\n      <td>2.759693e+03</td>\n    </tr>\n  </tbody>\n</table>\n</div>"
     },
     "metadata": {},
     "execution_count": 17
    }
   ],
   "source": [
    "df['wpm'] = df.apply(lambda r: wpm(r, weights), axis=1)\n",
    "df.sort_values(by='wpm', ascending=False)"
   ]
  },
  {
   "cell_type": "code",
   "execution_count": 18,
   "metadata": {},
   "outputs": [
    {
     "output_type": "execute_result",
     "data": {
      "text/plain": "   beds  baths  area    hoa  parking  year  floor exposure elevator     price  \\\n3     2      2  1200  973.0        1  1965      8        E      Yes  209900.0   \n4     3      2  1600  150.0        0  2020      3        E       No  279000.0   \n1     1      1   750  546.0        1  1951      4        W      Yes  185000.0   \n2     1      1   985  424.0        1  1892      3        W      Yes  210000.0   \n0     1      1   700  230.0        0  1895      2        W       No  199000.0   \n\n            wpm  \n3  5.980504e+07  \n4  4.000000e+07  \n1  3.621921e+05  \n2  1.135518e+05  \n0  2.759693e+03  ",
      "text/html": "<div>\n<style scoped>\n    .dataframe tbody tr th:only-of-type {\n        vertical-align: middle;\n    }\n\n    .dataframe tbody tr th {\n        vertical-align: top;\n    }\n\n    .dataframe thead th {\n        text-align: right;\n    }\n</style>\n<table border=\"1\" class=\"dataframe\">\n  <thead>\n    <tr style=\"text-align: right;\">\n      <th></th>\n      <th>beds</th>\n      <th>baths</th>\n      <th>area</th>\n      <th>hoa</th>\n      <th>parking</th>\n      <th>year</th>\n      <th>floor</th>\n      <th>exposure</th>\n      <th>elevator</th>\n      <th>price</th>\n      <th>wpm</th>\n    </tr>\n  </thead>\n  <tbody>\n    <tr>\n      <th>3</th>\n      <td>2</td>\n      <td>2</td>\n      <td>1200</td>\n      <td>973.0</td>\n      <td>1</td>\n      <td>1965</td>\n      <td>8</td>\n      <td>E</td>\n      <td>Yes</td>\n      <td>209900.0</td>\n      <td>5.980504e+07</td>\n    </tr>\n    <tr>\n      <th>4</th>\n      <td>3</td>\n      <td>2</td>\n      <td>1600</td>\n      <td>150.0</td>\n      <td>0</td>\n      <td>2020</td>\n      <td>3</td>\n      <td>E</td>\n      <td>No</td>\n      <td>279000.0</td>\n      <td>4.000000e+07</td>\n    </tr>\n    <tr>\n      <th>1</th>\n      <td>1</td>\n      <td>1</td>\n      <td>750</td>\n      <td>546.0</td>\n      <td>1</td>\n      <td>1951</td>\n      <td>4</td>\n      <td>W</td>\n      <td>Yes</td>\n      <td>185000.0</td>\n      <td>3.621921e+05</td>\n    </tr>\n    <tr>\n      <th>2</th>\n      <td>1</td>\n      <td>1</td>\n      <td>985</td>\n      <td>424.0</td>\n      <td>1</td>\n      <td>1892</td>\n      <td>3</td>\n      <td>W</td>\n      <td>Yes</td>\n      <td>210000.0</td>\n      <td>1.135518e+05</td>\n    </tr>\n    <tr>\n      <th>0</th>\n      <td>1</td>\n      <td>1</td>\n      <td>700</td>\n      <td>230.0</td>\n      <td>0</td>\n      <td>1895</td>\n      <td>2</td>\n      <td>W</td>\n      <td>No</td>\n      <td>199000.0</td>\n      <td>2.759693e+03</td>\n    </tr>\n  </tbody>\n</table>\n</div>"
     },
     "metadata": {},
     "execution_count": 18
    }
   ],
   "source": [
    "dff = pd.merge(raw, df['wpm'], left_index=True, right_index=True) \\\n",
    "        .sort_values(by='wpm', ascending=False)\n",
    "dff"
   ]
  },
  {
   "cell_type": "code",
   "execution_count": 19,
   "metadata": {},
   "outputs": [
    {
     "output_type": "stream",
     "name": "stdout",
     "text": "||beds|baths|area|hoa|parking|year|floor|exposure|elevator|price|wpm|\n|---:|-------:|--------:|-------:|------:|----------:|-------:|--------:|:-----------|:-----------|--------:|----------------:|\n|3|2|2|1200|973|1|1965|8|E|Yes|209900|5.9805e+07|\n|4|3|2|1600|150|0|2020|3|E|No|279000|4e+07|\n|1|1|1|750|546|1|1951|4|W|Yes|185000|362192|\n|2|1|1|985|424|1|1892|3|W|Yes|210000|113552|\n|0|1|1|700|230|0|1895|2|W|No|199000|2759.69|\n"
    }
   ],
   "source": [
    "print(dff.to_markdown().replace(' ', ''))"
   ]
  },
  {
   "cell_type": "code",
   "execution_count": 20,
   "metadata": {},
   "outputs": [],
   "source": [
    "weights = {'beds'          :  1.,\n",
    "           'baths'         :  1.,\n",
    "           'area'          :  3.,\n",
    "           'hoa'           : -5.,\n",
    "           'parking'       :  5.,\n",
    "           'year'          :  1.,\n",
    "           'floor'         : -5.,\n",
    "           'price'         : -3.,\n",
    "           'exposure'      :  1.,\n",
    "           'elevator'      :  5.}"
   ]
  },
  {
   "cell_type": "code",
   "execution_count": 21,
   "metadata": {},
   "outputs": [
    {
     "output_type": "execute_result",
     "data": {
      "text/plain": "    beds  baths   area         hoa  parking        year  floor  exposure  \\\n2   10.0   10.0   38.5   39.963548    100.0   10.000000   25.0      10.0   \n1   10.0   10.0   15.0   53.304982    100.0   51.484375   40.0      10.0   \n3   55.0  100.0   60.0  100.000000    100.0   61.328125  100.0     100.0   \n4  100.0  100.0  100.0   10.000000     10.0  100.000000   25.0     100.0   \n0   10.0   10.0   10.0   18.748481     10.0   12.109375   10.0      10.0   \n\n   elevator       price           wpm  \n2     100.0   33.936170  1.466809e+09  \n1     100.0   10.000000  3.942850e+08  \n3     100.0   33.840426  1.880047e+08  \n4      10.0  100.000000  1.024000e+06  \n0      10.0   23.404255  4.077620e+01  ",
      "text/html": "<div>\n<style scoped>\n    .dataframe tbody tr th:only-of-type {\n        vertical-align: middle;\n    }\n\n    .dataframe tbody tr th {\n        vertical-align: top;\n    }\n\n    .dataframe thead th {\n        text-align: right;\n    }\n</style>\n<table border=\"1\" class=\"dataframe\">\n  <thead>\n    <tr style=\"text-align: right;\">\n      <th></th>\n      <th>beds</th>\n      <th>baths</th>\n      <th>area</th>\n      <th>hoa</th>\n      <th>parking</th>\n      <th>year</th>\n      <th>floor</th>\n      <th>exposure</th>\n      <th>elevator</th>\n      <th>price</th>\n      <th>wpm</th>\n    </tr>\n  </thead>\n  <tbody>\n    <tr>\n      <th>2</th>\n      <td>10.0</td>\n      <td>10.0</td>\n      <td>38.5</td>\n      <td>39.963548</td>\n      <td>100.0</td>\n      <td>10.000000</td>\n      <td>25.0</td>\n      <td>10.0</td>\n      <td>100.0</td>\n      <td>33.936170</td>\n      <td>1.466809e+09</td>\n    </tr>\n    <tr>\n      <th>1</th>\n      <td>10.0</td>\n      <td>10.0</td>\n      <td>15.0</td>\n      <td>53.304982</td>\n      <td>100.0</td>\n      <td>51.484375</td>\n      <td>40.0</td>\n      <td>10.0</td>\n      <td>100.0</td>\n      <td>10.000000</td>\n      <td>3.942850e+08</td>\n    </tr>\n    <tr>\n      <th>3</th>\n      <td>55.0</td>\n      <td>100.0</td>\n      <td>60.0</td>\n      <td>100.000000</td>\n      <td>100.0</td>\n      <td>61.328125</td>\n      <td>100.0</td>\n      <td>100.0</td>\n      <td>100.0</td>\n      <td>33.840426</td>\n      <td>1.880047e+08</td>\n    </tr>\n    <tr>\n      <th>4</th>\n      <td>100.0</td>\n      <td>100.0</td>\n      <td>100.0</td>\n      <td>10.000000</td>\n      <td>10.0</td>\n      <td>100.000000</td>\n      <td>25.0</td>\n      <td>100.0</td>\n      <td>10.0</td>\n      <td>100.000000</td>\n      <td>1.024000e+06</td>\n    </tr>\n    <tr>\n      <th>0</th>\n      <td>10.0</td>\n      <td>10.0</td>\n      <td>10.0</td>\n      <td>18.748481</td>\n      <td>10.0</td>\n      <td>12.109375</td>\n      <td>10.0</td>\n      <td>10.0</td>\n      <td>10.0</td>\n      <td>23.404255</td>\n      <td>4.077620e+01</td>\n    </tr>\n  </tbody>\n</table>\n</div>"
     },
     "metadata": {},
     "execution_count": 21
    }
   ],
   "source": [
    "df['wpm'] = df.apply(lambda r: wpm(r, weights), axis=1)\n",
    "df.sort_values(by='wpm', ascending=False)"
   ]
  },
  {
   "cell_type": "code",
   "execution_count": 22,
   "metadata": {},
   "outputs": [
    {
     "output_type": "execute_result",
     "data": {
      "text/plain": "   beds  baths  area    hoa  parking  year  floor exposure elevator     price  \\\n2     1      1   985  424.0        1  1892      3        W      Yes  210000.0   \n1     1      1   750  546.0        1  1951      4        W      Yes  185000.0   \n3     2      2  1200  973.0        1  1965      8        E      Yes  209900.0   \n4     3      2  1600  150.0        0  2020      3        E       No  279000.0   \n0     1      1   700  230.0        0  1895      2        W       No  199000.0   \n\n            wpm  \n2  1.466809e+09  \n1  3.942850e+08  \n3  1.880047e+08  \n4  1.024000e+06  \n0  4.077620e+01  ",
      "text/html": "<div>\n<style scoped>\n    .dataframe tbody tr th:only-of-type {\n        vertical-align: middle;\n    }\n\n    .dataframe tbody tr th {\n        vertical-align: top;\n    }\n\n    .dataframe thead th {\n        text-align: right;\n    }\n</style>\n<table border=\"1\" class=\"dataframe\">\n  <thead>\n    <tr style=\"text-align: right;\">\n      <th></th>\n      <th>beds</th>\n      <th>baths</th>\n      <th>area</th>\n      <th>hoa</th>\n      <th>parking</th>\n      <th>year</th>\n      <th>floor</th>\n      <th>exposure</th>\n      <th>elevator</th>\n      <th>price</th>\n      <th>wpm</th>\n    </tr>\n  </thead>\n  <tbody>\n    <tr>\n      <th>2</th>\n      <td>1</td>\n      <td>1</td>\n      <td>985</td>\n      <td>424.0</td>\n      <td>1</td>\n      <td>1892</td>\n      <td>3</td>\n      <td>W</td>\n      <td>Yes</td>\n      <td>210000.0</td>\n      <td>1.466809e+09</td>\n    </tr>\n    <tr>\n      <th>1</th>\n      <td>1</td>\n      <td>1</td>\n      <td>750</td>\n      <td>546.0</td>\n      <td>1</td>\n      <td>1951</td>\n      <td>4</td>\n      <td>W</td>\n      <td>Yes</td>\n      <td>185000.0</td>\n      <td>3.942850e+08</td>\n    </tr>\n    <tr>\n      <th>3</th>\n      <td>2</td>\n      <td>2</td>\n      <td>1200</td>\n      <td>973.0</td>\n      <td>1</td>\n      <td>1965</td>\n      <td>8</td>\n      <td>E</td>\n      <td>Yes</td>\n      <td>209900.0</td>\n      <td>1.880047e+08</td>\n    </tr>\n    <tr>\n      <th>4</th>\n      <td>3</td>\n      <td>2</td>\n      <td>1600</td>\n      <td>150.0</td>\n      <td>0</td>\n      <td>2020</td>\n      <td>3</td>\n      <td>E</td>\n      <td>No</td>\n      <td>279000.0</td>\n      <td>1.024000e+06</td>\n    </tr>\n    <tr>\n      <th>0</th>\n      <td>1</td>\n      <td>1</td>\n      <td>700</td>\n      <td>230.0</td>\n      <td>0</td>\n      <td>1895</td>\n      <td>2</td>\n      <td>W</td>\n      <td>No</td>\n      <td>199000.0</td>\n      <td>4.077620e+01</td>\n    </tr>\n  </tbody>\n</table>\n</div>"
     },
     "metadata": {},
     "execution_count": 22
    }
   ],
   "source": [
    "dff = pd.merge(raw, df['wpm'], left_index=True, right_index=True) \\\n",
    "        .sort_values(by='wpm', ascending=False)\n",
    "dff"
   ]
  },
  {
   "cell_type": "code",
   "execution_count": 23,
   "metadata": {},
   "outputs": [
    {
     "output_type": "stream",
     "name": "stdout",
     "text": "||beds|baths|area|hoa|parking|year|floor|exposure|elevator|price|wpm|\n|---:|-------:|--------:|-------:|------:|----------:|-------:|--------:|:-----------|:-----------|--------:|-------------:|\n|2|1|1|985|424|1|1892|3|W|Yes|210000|1.46681e+09|\n|1|1|1|750|546|1|1951|4|W|Yes|185000|3.94285e+08|\n|3|2|2|1200|973|1|1965|8|E|Yes|209900|1.88005e+08|\n|4|3|2|1600|150|0|2020|3|E|No|279000|1.024e+06|\n|0|1|1|700|230|0|1895|2|W|No|199000|40.7762|\n"
    }
   ],
   "source": [
    "print(dff.to_markdown().replace(' ', ''))"
   ]
  },
  {
   "cell_type": "code",
   "execution_count": null,
   "metadata": {},
   "outputs": [],
   "source": []
  }
 ],
 "metadata": {
  "language_info": {
   "name": "python",
   "codemirror_mode": {
    "name": "ipython",
    "version": 3
   },
   "version": "3.6.9-final"
  },
  "orig_nbformat": 2,
  "file_extension": ".py",
  "mimetype": "text/x-python",
  "name": "python",
  "npconvert_exporter": "python",
  "pygments_lexer": "ipython3",
  "version": 3,
  "kernelspec": {
   "name": "python36964bitvenvvirtualenv9e3b3cd1d0614a3991e81ba2d30ca3e9",
   "display_name": "Python 3.6.9 64-bit ('venv': virtualenv)"
  }
 },
 "nbformat": 4,
 "nbformat_minor": 2
}