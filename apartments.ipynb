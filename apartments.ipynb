{
 "nbformat": 4,
 "nbformat_minor": 2,
 "metadata": {
  "language_info": {
   "name": "python",
   "codemirror_mode": {
    "name": "ipython",
    "version": 3
   },
   "version": "3.6.9-final"
  },
  "orig_nbformat": 2,
  "file_extension": ".py",
  "mimetype": "text/x-python",
  "name": "python",
  "npconvert_exporter": "python",
  "pygments_lexer": "ipython3",
  "version": 3,
  "kernelspec": {
   "name": "python36964bitvenvvirtualenv9e3b3cd1d0614a3991e81ba2d30ca3e9",
   "display_name": "Python 3.6.9 64-bit ('venv': virtualenv)"
  }
 },
 "cells": [
  {
   "cell_type": "code",
   "execution_count": 1,
   "metadata": {},
   "outputs": [],
   "source": [
    "import pandas as pd \n",
    "from sklearn.preprocessing import MinMaxScaler"
   ]
  },
  {
   "cell_type": "code",
   "execution_count": 2,
   "metadata": {},
   "outputs": [
    {
     "output_type": "execute_result",
     "data": {
      "text/plain": "   bedrooms  bathrooms  area    hoa  parking  year  floor exposure elevator  \\\n0         1          1   750  546.0        1  1951      4        W      Yes   \n1         1          1   700  230.0        0  1895      2        W       No   \n2         3          2  1600  150.0        0  2020      3        E       No   \n3         1          1   985  424.0        1  1892      3        W      Yes   \n4         2          2  1200  973.0        1  1965      8        E      Yes   \n\n      price  \n0  175000.0  \n1  199000.0  \n2  279000.0  \n3  210000.0  \n4  209900.0  ",
      "text/html": "<div>\n<style scoped>\n    .dataframe tbody tr th:only-of-type {\n        vertical-align: middle;\n    }\n\n    .dataframe tbody tr th {\n        vertical-align: top;\n    }\n\n    .dataframe thead th {\n        text-align: right;\n    }\n</style>\n<table border=\"1\" class=\"dataframe\">\n  <thead>\n    <tr style=\"text-align: right;\">\n      <th></th>\n      <th>bedrooms</th>\n      <th>bathrooms</th>\n      <th>area</th>\n      <th>hoa</th>\n      <th>parking</th>\n      <th>year</th>\n      <th>floor</th>\n      <th>exposure</th>\n      <th>elevator</th>\n      <th>price</th>\n    </tr>\n  </thead>\n  <tbody>\n    <tr>\n      <th>0</th>\n      <td>1</td>\n      <td>1</td>\n      <td>750</td>\n      <td>546.0</td>\n      <td>1</td>\n      <td>1951</td>\n      <td>4</td>\n      <td>W</td>\n      <td>Yes</td>\n      <td>175000.0</td>\n    </tr>\n    <tr>\n      <th>1</th>\n      <td>1</td>\n      <td>1</td>\n      <td>700</td>\n      <td>230.0</td>\n      <td>0</td>\n      <td>1895</td>\n      <td>2</td>\n      <td>W</td>\n      <td>No</td>\n      <td>199000.0</td>\n    </tr>\n    <tr>\n      <th>2</th>\n      <td>3</td>\n      <td>2</td>\n      <td>1600</td>\n      <td>150.0</td>\n      <td>0</td>\n      <td>2020</td>\n      <td>3</td>\n      <td>E</td>\n      <td>No</td>\n      <td>279000.0</td>\n    </tr>\n    <tr>\n      <th>3</th>\n      <td>1</td>\n      <td>1</td>\n      <td>985</td>\n      <td>424.0</td>\n      <td>1</td>\n      <td>1892</td>\n      <td>3</td>\n      <td>W</td>\n      <td>Yes</td>\n      <td>210000.0</td>\n    </tr>\n    <tr>\n      <th>4</th>\n      <td>2</td>\n      <td>2</td>\n      <td>1200</td>\n      <td>973.0</td>\n      <td>1</td>\n      <td>1965</td>\n      <td>8</td>\n      <td>E</td>\n      <td>Yes</td>\n      <td>209900.0</td>\n    </tr>\n  </tbody>\n</table>\n</div>"
     },
     "metadata": {},
     "execution_count": 2
    }
   ],
   "source": [
    "df = pd.read_csv('apartments.csv')\n",
    "df"
   ]
  },
  {
   "cell_type": "code",
   "execution_count": 3,
   "metadata": {},
   "outputs": [],
   "source": [
    "df['exposure_east'] = df.apply(lambda r: 1 if r['exposure'] == 'E' else 0, axis=1)"
   ]
  },
  {
   "cell_type": "code",
   "execution_count": 4,
   "metadata": {},
   "outputs": [],
   "source": [
    "df['has_elevator'] = df.apply(lambda r: 1 if r['elevator'] == 'Yes' else 0, axis=1)"
   ]
  },
  {
   "cell_type": "code",
   "execution_count": 5,
   "metadata": {},
   "outputs": [
    {
     "output_type": "execute_result",
     "data": {
      "text/plain": "   bedrooms  bathrooms  area    hoa  parking  year  floor exposure elevator  \\\n0         1          1   750  546.0        1  1951      4        W      Yes   \n1         1          1   700  230.0        0  1895      2        W       No   \n2         3          2  1600  150.0        0  2020      3        E       No   \n3         1          1   985  424.0        1  1892      3        W      Yes   \n4         2          2  1200  973.0        1  1965      8        E      Yes   \n\n      price  exposure_east  has_elevator  \n0  175000.0              0             1  \n1  199000.0              0             0  \n2  279000.0              1             0  \n3  210000.0              0             1  \n4  209900.0              1             1  ",
      "text/html": "<div>\n<style scoped>\n    .dataframe tbody tr th:only-of-type {\n        vertical-align: middle;\n    }\n\n    .dataframe tbody tr th {\n        vertical-align: top;\n    }\n\n    .dataframe thead th {\n        text-align: right;\n    }\n</style>\n<table border=\"1\" class=\"dataframe\">\n  <thead>\n    <tr style=\"text-align: right;\">\n      <th></th>\n      <th>bedrooms</th>\n      <th>bathrooms</th>\n      <th>area</th>\n      <th>hoa</th>\n      <th>parking</th>\n      <th>year</th>\n      <th>floor</th>\n      <th>exposure</th>\n      <th>elevator</th>\n      <th>price</th>\n      <th>exposure_east</th>\n      <th>has_elevator</th>\n    </tr>\n  </thead>\n  <tbody>\n    <tr>\n      <th>0</th>\n      <td>1</td>\n      <td>1</td>\n      <td>750</td>\n      <td>546.0</td>\n      <td>1</td>\n      <td>1951</td>\n      <td>4</td>\n      <td>W</td>\n      <td>Yes</td>\n      <td>175000.0</td>\n      <td>0</td>\n      <td>1</td>\n    </tr>\n    <tr>\n      <th>1</th>\n      <td>1</td>\n      <td>1</td>\n      <td>700</td>\n      <td>230.0</td>\n      <td>0</td>\n      <td>1895</td>\n      <td>2</td>\n      <td>W</td>\n      <td>No</td>\n      <td>199000.0</td>\n      <td>0</td>\n      <td>0</td>\n    </tr>\n    <tr>\n      <th>2</th>\n      <td>3</td>\n      <td>2</td>\n      <td>1600</td>\n      <td>150.0</td>\n      <td>0</td>\n      <td>2020</td>\n      <td>3</td>\n      <td>E</td>\n      <td>No</td>\n      <td>279000.0</td>\n      <td>1</td>\n      <td>0</td>\n    </tr>\n    <tr>\n      <th>3</th>\n      <td>1</td>\n      <td>1</td>\n      <td>985</td>\n      <td>424.0</td>\n      <td>1</td>\n      <td>1892</td>\n      <td>3</td>\n      <td>W</td>\n      <td>Yes</td>\n      <td>210000.0</td>\n      <td>0</td>\n      <td>1</td>\n    </tr>\n    <tr>\n      <th>4</th>\n      <td>2</td>\n      <td>2</td>\n      <td>1200</td>\n      <td>973.0</td>\n      <td>1</td>\n      <td>1965</td>\n      <td>8</td>\n      <td>E</td>\n      <td>Yes</td>\n      <td>209900.0</td>\n      <td>1</td>\n      <td>1</td>\n    </tr>\n  </tbody>\n</table>\n</div>"
     },
     "metadata": {},
     "execution_count": 5
    }
   ],
   "source": [
    "df"
   ]
  },
  {
   "cell_type": "code",
   "execution_count": 6,
   "metadata": {},
   "outputs": [],
   "source": [
    "df.drop(columns=['exposure', 'elevator'], inplace=True)"
   ]
  },
  {
   "cell_type": "code",
   "execution_count": 7,
   "metadata": {},
   "outputs": [],
   "source": [
    "mms = MinMaxScaler(feature_range=(10, 100))"
   ]
  },
  {
   "cell_type": "code",
   "execution_count": 8,
   "metadata": {},
   "outputs": [
    {
     "output_type": "execute_result",
     "data": {
      "text/plain": "   bedrooms  bathrooms   area         hoa  parking        year  floor  \\\n0      10.0       10.0   15.0   53.304982    100.0   51.484375   40.0   \n1      10.0       10.0   10.0   18.748481     10.0   12.109375   10.0   \n2     100.0      100.0  100.0   10.000000     10.0  100.000000   25.0   \n3      10.0       10.0   38.5   39.963548    100.0   10.000000   25.0   \n4      55.0      100.0   60.0  100.000000    100.0   61.328125  100.0   \n\n        price  exposure_east  has_elevator  \n0   10.000000           10.0         100.0  \n1   30.769231           10.0          10.0  \n2  100.000000          100.0          10.0  \n3   40.288462           10.0         100.0  \n4   40.201923          100.0         100.0  ",
      "text/html": "<div>\n<style scoped>\n    .dataframe tbody tr th:only-of-type {\n        vertical-align: middle;\n    }\n\n    .dataframe tbody tr th {\n        vertical-align: top;\n    }\n\n    .dataframe thead th {\n        text-align: right;\n    }\n</style>\n<table border=\"1\" class=\"dataframe\">\n  <thead>\n    <tr style=\"text-align: right;\">\n      <th></th>\n      <th>bedrooms</th>\n      <th>bathrooms</th>\n      <th>area</th>\n      <th>hoa</th>\n      <th>parking</th>\n      <th>year</th>\n      <th>floor</th>\n      <th>price</th>\n      <th>exposure_east</th>\n      <th>has_elevator</th>\n    </tr>\n  </thead>\n  <tbody>\n    <tr>\n      <th>0</th>\n      <td>10.0</td>\n      <td>10.0</td>\n      <td>15.0</td>\n      <td>53.304982</td>\n      <td>100.0</td>\n      <td>51.484375</td>\n      <td>40.0</td>\n      <td>10.000000</td>\n      <td>10.0</td>\n      <td>100.0</td>\n    </tr>\n    <tr>\n      <th>1</th>\n      <td>10.0</td>\n      <td>10.0</td>\n      <td>10.0</td>\n      <td>18.748481</td>\n      <td>10.0</td>\n      <td>12.109375</td>\n      <td>10.0</td>\n      <td>30.769231</td>\n      <td>10.0</td>\n      <td>10.0</td>\n    </tr>\n    <tr>\n      <th>2</th>\n      <td>100.0</td>\n      <td>100.0</td>\n      <td>100.0</td>\n      <td>10.000000</td>\n      <td>10.0</td>\n      <td>100.000000</td>\n      <td>25.0</td>\n      <td>100.000000</td>\n      <td>100.0</td>\n      <td>10.0</td>\n    </tr>\n    <tr>\n      <th>3</th>\n      <td>10.0</td>\n      <td>10.0</td>\n      <td>38.5</td>\n      <td>39.963548</td>\n      <td>100.0</td>\n      <td>10.000000</td>\n      <td>25.0</td>\n      <td>40.288462</td>\n      <td>10.0</td>\n      <td>100.0</td>\n    </tr>\n    <tr>\n      <th>4</th>\n      <td>55.0</td>\n      <td>100.0</td>\n      <td>60.0</td>\n      <td>100.000000</td>\n      <td>100.0</td>\n      <td>61.328125</td>\n      <td>100.0</td>\n      <td>40.201923</td>\n      <td>100.0</td>\n      <td>100.0</td>\n    </tr>\n  </tbody>\n</table>\n</div>"
     },
     "metadata": {},
     "execution_count": 8
    }
   ],
   "source": [
    "scaled = pd.DataFrame(mms.fit_transform(df), columns=df.columns)\n",
    "scaled"
   ]
  },
  {
   "cell_type": "code",
   "execution_count": 9,
   "metadata": {},
   "outputs": [],
   "source": [
    "features = {'bedrooms'     :  1.,\n",
    "           'bathrooms'     :  1.,\n",
    "           'area'          :  1.,\n",
    "           'hoa'           : -1.,\n",
    "           'parking'       :  1.,\n",
    "           'year'          :  1.,\n",
    "           'floor'         : -1.,\n",
    "           'price'         : -1.,\n",
    "           'exposure_east' :  1.,\n",
    "           'has_elevator'  :  1.\n",
    "}"
   ]
  },
  {
   "cell_type": "code",
   "execution_count": 10,
   "metadata": {},
   "outputs": [
    {
     "output_type": "execute_result",
     "data": {
      "text/plain": "362192.09724869987"
     },
     "metadata": {},
     "execution_count": 10
    }
   ],
   "source": [
    "(10**1) * (10**1) * (15**1) * (53.30498**-1) * (100**1) * (51.48438**1) * (40**-1) * (10**-1) * (10**1) * (100**1)"
   ]
  },
  {
   "cell_type": "code",
   "execution_count": 11,
   "metadata": {},
   "outputs": [],
   "source": [
    "def wpm(apartment, features):\n",
    "    value = 1\n",
    "    for feature in features:\n",
    "        try:\n",
    "            value *= apartment[feature] ** features[feature]\n",
    "        except KeyError:\n",
    "            pass\n",
    "    return value"
   ]
  },
  {
   "cell_type": "code",
   "execution_count": 12,
   "metadata": {},
   "outputs": [
    {
     "output_type": "execute_result",
     "data": {
      "text/plain": "362192.0500199453"
     },
     "metadata": {},
     "execution_count": 12
    }
   ],
   "source": [
    "wpm(scaled.loc[0], features)"
   ]
  },
  {
   "cell_type": "code",
   "execution_count": 13,
   "metadata": {},
   "outputs": [
    {
     "output_type": "execute_result",
     "data": {
      "text/plain": "   bedrooms  bathrooms  area    hoa  parking  year  floor     price  \\\n4         2          2  1200  973.0        1  1965      8  209900.0   \n2         3          2  1600  150.0        0  2020      3  279000.0   \n0         1          1   750  546.0        1  1951      4  175000.0   \n3         1          1   985  424.0        1  1892      3  210000.0   \n1         1          1   700  230.0        0  1895      2  199000.0   \n\n   exposure_east  has_elevator           wpm  \n4              1             1  5.034157e+07  \n2              1             0  4.000000e+07  \n0              0             1  3.621921e+05  \n3              0             1  9.564802e+04  \n1              0             0  2.099128e+03  ",
      "text/html": "<div>\n<style scoped>\n    .dataframe tbody tr th:only-of-type {\n        vertical-align: middle;\n    }\n\n    .dataframe tbody tr th {\n        vertical-align: top;\n    }\n\n    .dataframe thead th {\n        text-align: right;\n    }\n</style>\n<table border=\"1\" class=\"dataframe\">\n  <thead>\n    <tr style=\"text-align: right;\">\n      <th></th>\n      <th>bedrooms</th>\n      <th>bathrooms</th>\n      <th>area</th>\n      <th>hoa</th>\n      <th>parking</th>\n      <th>year</th>\n      <th>floor</th>\n      <th>price</th>\n      <th>exposure_east</th>\n      <th>has_elevator</th>\n      <th>wpm</th>\n    </tr>\n  </thead>\n  <tbody>\n    <tr>\n      <th>4</th>\n      <td>2</td>\n      <td>2</td>\n      <td>1200</td>\n      <td>973.0</td>\n      <td>1</td>\n      <td>1965</td>\n      <td>8</td>\n      <td>209900.0</td>\n      <td>1</td>\n      <td>1</td>\n      <td>5.034157e+07</td>\n    </tr>\n    <tr>\n      <th>2</th>\n      <td>3</td>\n      <td>2</td>\n      <td>1600</td>\n      <td>150.0</td>\n      <td>0</td>\n      <td>2020</td>\n      <td>3</td>\n      <td>279000.0</td>\n      <td>1</td>\n      <td>0</td>\n      <td>4.000000e+07</td>\n    </tr>\n    <tr>\n      <th>0</th>\n      <td>1</td>\n      <td>1</td>\n      <td>750</td>\n      <td>546.0</td>\n      <td>1</td>\n      <td>1951</td>\n      <td>4</td>\n      <td>175000.0</td>\n      <td>0</td>\n      <td>1</td>\n      <td>3.621921e+05</td>\n    </tr>\n    <tr>\n      <th>3</th>\n      <td>1</td>\n      <td>1</td>\n      <td>985</td>\n      <td>424.0</td>\n      <td>1</td>\n      <td>1892</td>\n      <td>3</td>\n      <td>210000.0</td>\n      <td>0</td>\n      <td>1</td>\n      <td>9.564802e+04</td>\n    </tr>\n    <tr>\n      <th>1</th>\n      <td>1</td>\n      <td>1</td>\n      <td>700</td>\n      <td>230.0</td>\n      <td>0</td>\n      <td>1895</td>\n      <td>2</td>\n      <td>199000.0</td>\n      <td>0</td>\n      <td>0</td>\n      <td>2.099128e+03</td>\n    </tr>\n  </tbody>\n</table>\n</div>"
     },
     "metadata": {},
     "execution_count": 13
    }
   ],
   "source": [
    "df['wpm'] = scaled.apply(lambda r: wpm(r, features), axis=1)\n",
    "df.sort_values(by='wpm', ascending=False)"
   ]
  },
  {
   "cell_type": "code",
   "execution_count": 14,
   "metadata": {},
   "outputs": [],
   "source": [
    "features = {'bedrooms'     :  1.,\n",
    "           'bathrooms'     :  1.,\n",
    "           'area'          :  3.,\n",
    "           'hoa'           : -5.,\n",
    "           'parking'      :   5.,\n",
    "           'year'          :  1.,\n",
    "           'floor'         : -5.,\n",
    "           'price'         : -3.,\n",
    "           'exposure_east' :  1.,\n",
    "           'has_elevator'  :  3.\n",
    "}"
   ]
  },
  {
   "cell_type": "code",
   "execution_count": 15,
   "metadata": {},
   "outputs": [
    {
     "output_type": "execute_result",
     "data": {
      "text/plain": "   bedrooms  bathrooms  area    hoa  parking  year  floor     price  \\\n3         1          1   985  424.0        1  1892      3  210000.0   \n0         1          1   750  546.0        1  1951      4  175000.0   \n4         2          2  1200  973.0        1  1965      8  209900.0   \n2         3          2  1600  150.0        0  2020      3  279000.0   \n1         1          1   700  230.0        0  1895      2  199000.0   \n\n   exposure_east  has_elevator           wpm  \n3              0             1  87663.721386  \n0              0             1  39428.501291  \n4              1             1  11213.356844  \n2              1             0  10240.000000  \n1              0             0      0.179449  ",
      "text/html": "<div>\n<style scoped>\n    .dataframe tbody tr th:only-of-type {\n        vertical-align: middle;\n    }\n\n    .dataframe tbody tr th {\n        vertical-align: top;\n    }\n\n    .dataframe thead th {\n        text-align: right;\n    }\n</style>\n<table border=\"1\" class=\"dataframe\">\n  <thead>\n    <tr style=\"text-align: right;\">\n      <th></th>\n      <th>bedrooms</th>\n      <th>bathrooms</th>\n      <th>area</th>\n      <th>hoa</th>\n      <th>parking</th>\n      <th>year</th>\n      <th>floor</th>\n      <th>price</th>\n      <th>exposure_east</th>\n      <th>has_elevator</th>\n      <th>wpm</th>\n    </tr>\n  </thead>\n  <tbody>\n    <tr>\n      <th>3</th>\n      <td>1</td>\n      <td>1</td>\n      <td>985</td>\n      <td>424.0</td>\n      <td>1</td>\n      <td>1892</td>\n      <td>3</td>\n      <td>210000.0</td>\n      <td>0</td>\n      <td>1</td>\n      <td>87663.721386</td>\n    </tr>\n    <tr>\n      <th>0</th>\n      <td>1</td>\n      <td>1</td>\n      <td>750</td>\n      <td>546.0</td>\n      <td>1</td>\n      <td>1951</td>\n      <td>4</td>\n      <td>175000.0</td>\n      <td>0</td>\n      <td>1</td>\n      <td>39428.501291</td>\n    </tr>\n    <tr>\n      <th>4</th>\n      <td>2</td>\n      <td>2</td>\n      <td>1200</td>\n      <td>973.0</td>\n      <td>1</td>\n      <td>1965</td>\n      <td>8</td>\n      <td>209900.0</td>\n      <td>1</td>\n      <td>1</td>\n      <td>11213.356844</td>\n    </tr>\n    <tr>\n      <th>2</th>\n      <td>3</td>\n      <td>2</td>\n      <td>1600</td>\n      <td>150.0</td>\n      <td>0</td>\n      <td>2020</td>\n      <td>3</td>\n      <td>279000.0</td>\n      <td>1</td>\n      <td>0</td>\n      <td>10240.000000</td>\n    </tr>\n    <tr>\n      <th>1</th>\n      <td>1</td>\n      <td>1</td>\n      <td>700</td>\n      <td>230.0</td>\n      <td>0</td>\n      <td>1895</td>\n      <td>2</td>\n      <td>199000.0</td>\n      <td>0</td>\n      <td>0</td>\n      <td>0.179449</td>\n    </tr>\n  </tbody>\n</table>\n</div>"
     },
     "metadata": {},
     "execution_count": 15
    }
   ],
   "source": [
    "df['wpm'] = scaled.apply(lambda r: wpm(r, features), axis=1)\n",
    "df.sort_values(by='wpm', ascending=False)"
   ]
  },
  {
   "cell_type": "code",
   "execution_count": null,
   "metadata": {},
   "outputs": [],
   "source": []
  }
 ]
}