{
 "cells": [
  {
   "cell_type": "code",
   "execution_count": 1,
   "metadata": {},
   "outputs": [],
   "source": [
    "import pandas as pd \n",
    "from sklearn.preprocessing import MinMaxScaler"
   ]
  },
  {
   "cell_type": "code",
   "execution_count": 2,
   "metadata": {},
   "outputs": [
    {
     "output_type": "execute_result",
     "data": {
      "text/plain": "   bedrooms  bathrooms  area    hoa  parking  year  floor exposure elevator  \\\n0         1          1   750  546.0        1  1951      4        W      Yes   \n1         1          1   700  230.0        0  1895      2        W       No   \n2         3          2  1600  150.0        0  2020      3        E       No   \n3         1          1   985  424.0        1  1892      3        W      Yes   \n4         2          2  1200  973.0        1  1965      8        E      Yes   \n\n      price  \n0  175000.0  \n1  199000.0  \n2  279000.0  \n3  210000.0  \n4  209900.0  ",
      "text/html": "<div>\n<style scoped>\n    .dataframe tbody tr th:only-of-type {\n        vertical-align: middle;\n    }\n\n    .dataframe tbody tr th {\n        vertical-align: top;\n    }\n\n    .dataframe thead th {\n        text-align: right;\n    }\n</style>\n<table border=\"1\" class=\"dataframe\">\n  <thead>\n    <tr style=\"text-align: right;\">\n      <th></th>\n      <th>bedrooms</th>\n      <th>bathrooms</th>\n      <th>area</th>\n      <th>hoa</th>\n      <th>parking</th>\n      <th>year</th>\n      <th>floor</th>\n      <th>exposure</th>\n      <th>elevator</th>\n      <th>price</th>\n    </tr>\n  </thead>\n  <tbody>\n    <tr>\n      <th>0</th>\n      <td>1</td>\n      <td>1</td>\n      <td>750</td>\n      <td>546.0</td>\n      <td>1</td>\n      <td>1951</td>\n      <td>4</td>\n      <td>W</td>\n      <td>Yes</td>\n      <td>175000.0</td>\n    </tr>\n    <tr>\n      <th>1</th>\n      <td>1</td>\n      <td>1</td>\n      <td>700</td>\n      <td>230.0</td>\n      <td>0</td>\n      <td>1895</td>\n      <td>2</td>\n      <td>W</td>\n      <td>No</td>\n      <td>199000.0</td>\n    </tr>\n    <tr>\n      <th>2</th>\n      <td>3</td>\n      <td>2</td>\n      <td>1600</td>\n      <td>150.0</td>\n      <td>0</td>\n      <td>2020</td>\n      <td>3</td>\n      <td>E</td>\n      <td>No</td>\n      <td>279000.0</td>\n    </tr>\n    <tr>\n      <th>3</th>\n      <td>1</td>\n      <td>1</td>\n      <td>985</td>\n      <td>424.0</td>\n      <td>1</td>\n      <td>1892</td>\n      <td>3</td>\n      <td>W</td>\n      <td>Yes</td>\n      <td>210000.0</td>\n    </tr>\n    <tr>\n      <th>4</th>\n      <td>2</td>\n      <td>2</td>\n      <td>1200</td>\n      <td>973.0</td>\n      <td>1</td>\n      <td>1965</td>\n      <td>8</td>\n      <td>E</td>\n      <td>Yes</td>\n      <td>209900.0</td>\n    </tr>\n  </tbody>\n</table>\n</div>"
     },
     "metadata": {},
     "execution_count": 2
    }
   ],
   "source": [
    "raw = pd.read_csv('apartments.csv')\n",
    "raw"
   ]
  },
  {
   "cell_type": "code",
   "execution_count": 3,
   "metadata": {},
   "outputs": [
    {
     "output_type": "execute_result",
     "data": {
      "text/plain": "   bedrooms  bathrooms  area    hoa  parking  year  floor exposure elevator  \\\n0         1          1   750  546.0        1  1951      4        W      Yes   \n1         1          1   700  230.0        0  1895      2        W       No   \n2         3          2  1600  150.0        0  2020      3        E       No   \n3         1          1   985  424.0        1  1892      3        W      Yes   \n4         2          2  1200  973.0        1  1965      8        E      Yes   \n\n      price  \n0  175000.0  \n1  199000.0  \n2  279000.0  \n3  210000.0  \n4  209900.0  ",
      "text/html": "<div>\n<style scoped>\n    .dataframe tbody tr th:only-of-type {\n        vertical-align: middle;\n    }\n\n    .dataframe tbody tr th {\n        vertical-align: top;\n    }\n\n    .dataframe thead th {\n        text-align: right;\n    }\n</style>\n<table border=\"1\" class=\"dataframe\">\n  <thead>\n    <tr style=\"text-align: right;\">\n      <th></th>\n      <th>bedrooms</th>\n      <th>bathrooms</th>\n      <th>area</th>\n      <th>hoa</th>\n      <th>parking</th>\n      <th>year</th>\n      <th>floor</th>\n      <th>exposure</th>\n      <th>elevator</th>\n      <th>price</th>\n    </tr>\n  </thead>\n  <tbody>\n    <tr>\n      <th>0</th>\n      <td>1</td>\n      <td>1</td>\n      <td>750</td>\n      <td>546.0</td>\n      <td>1</td>\n      <td>1951</td>\n      <td>4</td>\n      <td>W</td>\n      <td>Yes</td>\n      <td>175000.0</td>\n    </tr>\n    <tr>\n      <th>1</th>\n      <td>1</td>\n      <td>1</td>\n      <td>700</td>\n      <td>230.0</td>\n      <td>0</td>\n      <td>1895</td>\n      <td>2</td>\n      <td>W</td>\n      <td>No</td>\n      <td>199000.0</td>\n    </tr>\n    <tr>\n      <th>2</th>\n      <td>3</td>\n      <td>2</td>\n      <td>1600</td>\n      <td>150.0</td>\n      <td>0</td>\n      <td>2020</td>\n      <td>3</td>\n      <td>E</td>\n      <td>No</td>\n      <td>279000.0</td>\n    </tr>\n    <tr>\n      <th>3</th>\n      <td>1</td>\n      <td>1</td>\n      <td>985</td>\n      <td>424.0</td>\n      <td>1</td>\n      <td>1892</td>\n      <td>3</td>\n      <td>W</td>\n      <td>Yes</td>\n      <td>210000.0</td>\n    </tr>\n    <tr>\n      <th>4</th>\n      <td>2</td>\n      <td>2</td>\n      <td>1200</td>\n      <td>973.0</td>\n      <td>1</td>\n      <td>1965</td>\n      <td>8</td>\n      <td>E</td>\n      <td>Yes</td>\n      <td>209900.0</td>\n    </tr>\n  </tbody>\n</table>\n</div>"
     },
     "metadata": {},
     "execution_count": 3
    }
   ],
   "source": [
    "raw"
   ]
  },
  {
   "cell_type": "code",
   "execution_count": 4,
   "metadata": {},
   "outputs": [],
   "source": [
    "df = raw.copy()"
   ]
  },
  {
   "cell_type": "code",
   "execution_count": 5,
   "metadata": {},
   "outputs": [],
   "source": [
    "df['exposure'] = df.apply(lambda r: 1 if r['exposure'] == 'E' else 0, axis=1)"
   ]
  },
  {
   "cell_type": "code",
   "execution_count": 6,
   "metadata": {},
   "outputs": [],
   "source": [
    "df['elevator'] = df.apply(lambda r: 1 if r['elevator'] == 'Yes' else 0, axis=1)"
   ]
  },
  {
   "cell_type": "code",
   "execution_count": 7,
   "metadata": {},
   "outputs": [
    {
     "output_type": "execute_result",
     "data": {
      "text/plain": "   bedrooms  bathrooms  area    hoa  parking  year  floor  exposure  elevator  \\\n0         1          1   750  546.0        1  1951      4         0         1   \n1         1          1   700  230.0        0  1895      2         0         0   \n2         3          2  1600  150.0        0  2020      3         1         0   \n3         1          1   985  424.0        1  1892      3         0         1   \n4         2          2  1200  973.0        1  1965      8         1         1   \n\n      price  \n0  175000.0  \n1  199000.0  \n2  279000.0  \n3  210000.0  \n4  209900.0  ",
      "text/html": "<div>\n<style scoped>\n    .dataframe tbody tr th:only-of-type {\n        vertical-align: middle;\n    }\n\n    .dataframe tbody tr th {\n        vertical-align: top;\n    }\n\n    .dataframe thead th {\n        text-align: right;\n    }\n</style>\n<table border=\"1\" class=\"dataframe\">\n  <thead>\n    <tr style=\"text-align: right;\">\n      <th></th>\n      <th>bedrooms</th>\n      <th>bathrooms</th>\n      <th>area</th>\n      <th>hoa</th>\n      <th>parking</th>\n      <th>year</th>\n      <th>floor</th>\n      <th>exposure</th>\n      <th>elevator</th>\n      <th>price</th>\n    </tr>\n  </thead>\n  <tbody>\n    <tr>\n      <th>0</th>\n      <td>1</td>\n      <td>1</td>\n      <td>750</td>\n      <td>546.0</td>\n      <td>1</td>\n      <td>1951</td>\n      <td>4</td>\n      <td>0</td>\n      <td>1</td>\n      <td>175000.0</td>\n    </tr>\n    <tr>\n      <th>1</th>\n      <td>1</td>\n      <td>1</td>\n      <td>700</td>\n      <td>230.0</td>\n      <td>0</td>\n      <td>1895</td>\n      <td>2</td>\n      <td>0</td>\n      <td>0</td>\n      <td>199000.0</td>\n    </tr>\n    <tr>\n      <th>2</th>\n      <td>3</td>\n      <td>2</td>\n      <td>1600</td>\n      <td>150.0</td>\n      <td>0</td>\n      <td>2020</td>\n      <td>3</td>\n      <td>1</td>\n      <td>0</td>\n      <td>279000.0</td>\n    </tr>\n    <tr>\n      <th>3</th>\n      <td>1</td>\n      <td>1</td>\n      <td>985</td>\n      <td>424.0</td>\n      <td>1</td>\n      <td>1892</td>\n      <td>3</td>\n      <td>0</td>\n      <td>1</td>\n      <td>210000.0</td>\n    </tr>\n    <tr>\n      <th>4</th>\n      <td>2</td>\n      <td>2</td>\n      <td>1200</td>\n      <td>973.0</td>\n      <td>1</td>\n      <td>1965</td>\n      <td>8</td>\n      <td>1</td>\n      <td>1</td>\n      <td>209900.0</td>\n    </tr>\n  </tbody>\n</table>\n</div>"
     },
     "metadata": {},
     "execution_count": 7
    }
   ],
   "source": [
    "df"
   ]
  },
  {
   "cell_type": "code",
   "execution_count": 8,
   "metadata": {},
   "outputs": [],
   "source": [
    "mms = MinMaxScaler(feature_range=(10, 100))"
   ]
  },
  {
   "cell_type": "code",
   "execution_count": 9,
   "metadata": {},
   "outputs": [
    {
     "output_type": "execute_result",
     "data": {
      "text/plain": "   bedrooms  bathrooms   area         hoa  parking        year  floor  \\\n0      10.0       10.0   15.0   53.304982    100.0   51.484375   40.0   \n1      10.0       10.0   10.0   18.748481     10.0   12.109375   10.0   \n2     100.0      100.0  100.0   10.000000     10.0  100.000000   25.0   \n3      10.0       10.0   38.5   39.963548    100.0   10.000000   25.0   \n4      55.0      100.0   60.0  100.000000    100.0   61.328125  100.0   \n\n   exposure  elevator       price  \n0      10.0     100.0   10.000000  \n1      10.0      10.0   30.769231  \n2     100.0      10.0  100.000000  \n3      10.0     100.0   40.288462  \n4     100.0     100.0   40.201923  ",
      "text/html": "<div>\n<style scoped>\n    .dataframe tbody tr th:only-of-type {\n        vertical-align: middle;\n    }\n\n    .dataframe tbody tr th {\n        vertical-align: top;\n    }\n\n    .dataframe thead th {\n        text-align: right;\n    }\n</style>\n<table border=\"1\" class=\"dataframe\">\n  <thead>\n    <tr style=\"text-align: right;\">\n      <th></th>\n      <th>bedrooms</th>\n      <th>bathrooms</th>\n      <th>area</th>\n      <th>hoa</th>\n      <th>parking</th>\n      <th>year</th>\n      <th>floor</th>\n      <th>exposure</th>\n      <th>elevator</th>\n      <th>price</th>\n    </tr>\n  </thead>\n  <tbody>\n    <tr>\n      <th>0</th>\n      <td>10.0</td>\n      <td>10.0</td>\n      <td>15.0</td>\n      <td>53.304982</td>\n      <td>100.0</td>\n      <td>51.484375</td>\n      <td>40.0</td>\n      <td>10.0</td>\n      <td>100.0</td>\n      <td>10.000000</td>\n    </tr>\n    <tr>\n      <th>1</th>\n      <td>10.0</td>\n      <td>10.0</td>\n      <td>10.0</td>\n      <td>18.748481</td>\n      <td>10.0</td>\n      <td>12.109375</td>\n      <td>10.0</td>\n      <td>10.0</td>\n      <td>10.0</td>\n      <td>30.769231</td>\n    </tr>\n    <tr>\n      <th>2</th>\n      <td>100.0</td>\n      <td>100.0</td>\n      <td>100.0</td>\n      <td>10.000000</td>\n      <td>10.0</td>\n      <td>100.000000</td>\n      <td>25.0</td>\n      <td>100.0</td>\n      <td>10.0</td>\n      <td>100.000000</td>\n    </tr>\n    <tr>\n      <th>3</th>\n      <td>10.0</td>\n      <td>10.0</td>\n      <td>38.5</td>\n      <td>39.963548</td>\n      <td>100.0</td>\n      <td>10.000000</td>\n      <td>25.0</td>\n      <td>10.0</td>\n      <td>100.0</td>\n      <td>40.288462</td>\n    </tr>\n    <tr>\n      <th>4</th>\n      <td>55.0</td>\n      <td>100.0</td>\n      <td>60.0</td>\n      <td>100.000000</td>\n      <td>100.0</td>\n      <td>61.328125</td>\n      <td>100.0</td>\n      <td>100.0</td>\n      <td>100.0</td>\n      <td>40.201923</td>\n    </tr>\n  </tbody>\n</table>\n</div>"
     },
     "metadata": {},
     "execution_count": 9
    }
   ],
   "source": [
    "df = pd.DataFrame(mms.fit_transform(df), columns=df.columns)\n",
    "df"
   ]
  },
  {
   "cell_type": "code",
   "execution_count": 10,
   "metadata": {},
   "outputs": [],
   "source": [
    "weights = {'bedrooms'     :   1.,\n",
    "           'bathrooms'     :  1.,\n",
    "           'area'          :  1.,\n",
    "           'hoa'           : -1.,\n",
    "           'parking'       :  1.,\n",
    "           'year'          :  1.,\n",
    "           'floor'         : -1.,\n",
    "           'price'         : -1.,\n",
    "           'exposure'      :  1.,\n",
    "           'elevator'      :  1.}"
   ]
  },
  {
   "cell_type": "code",
   "execution_count": 11,
   "metadata": {},
   "outputs": [
    {
     "output_type": "execute_result",
     "data": {
      "text/plain": "362192.0484843237"
     },
     "metadata": {},
     "execution_count": 11
    }
   ],
   "source": [
    "(10        **  1) * \\\n",
    "(10        **  1) * \\\n",
    "(15        **  1) * \\\n",
    "(53.304982 ** -1) * \\\n",
    "(100       **  1) * \\\n",
    "(51.484375 **  1) * \\\n",
    "(40        ** -1) * \\\n",
    "(10        ** -1) * \\\n",
    "(10        **  1) * \\\n",
    "(100       **  1)"
   ]
  },
  {
   "cell_type": "code",
   "execution_count": 12,
   "metadata": {},
   "outputs": [],
   "source": [
    "def wpm(option, weights):\n",
    "    value = 1\n",
    "    for column in option.keys():\n",
    "        try:\n",
    "            value *= option[column] ** weights[column]\n",
    "        except KeyError:\n",
    "            pass\n",
    "    return value"
   ]
  },
  {
   "cell_type": "code",
   "execution_count": 13,
   "metadata": {},
   "outputs": [
    {
     "output_type": "execute_result",
     "data": {
      "text/plain": "362192.05001994525"
     },
     "metadata": {},
     "execution_count": 13
    }
   ],
   "source": [
    "wpm(df.loc[0], weights)"
   ]
  },
  {
   "cell_type": "code",
   "execution_count": 14,
   "metadata": {},
   "outputs": [
    {
     "output_type": "execute_result",
     "data": {
      "text/plain": "   bedrooms  bathrooms   area         hoa  parking        year  floor  \\\n4      55.0      100.0   60.0  100.000000    100.0   61.328125  100.0   \n2     100.0      100.0  100.0   10.000000     10.0  100.000000   25.0   \n0      10.0       10.0   15.0   53.304982    100.0   51.484375   40.0   \n3      10.0       10.0   38.5   39.963548    100.0   10.000000   25.0   \n1      10.0       10.0   10.0   18.748481     10.0   12.109375   10.0   \n\n   exposure  elevator       price           wpm  \n4     100.0     100.0   40.201923  5.034157e+07  \n2     100.0      10.0  100.000000  4.000000e+07  \n0      10.0     100.0   10.000000  3.621921e+05  \n3      10.0     100.0   40.288462  9.564802e+04  \n1      10.0      10.0   30.769231  2.099128e+03  ",
      "text/html": "<div>\n<style scoped>\n    .dataframe tbody tr th:only-of-type {\n        vertical-align: middle;\n    }\n\n    .dataframe tbody tr th {\n        vertical-align: top;\n    }\n\n    .dataframe thead th {\n        text-align: right;\n    }\n</style>\n<table border=\"1\" class=\"dataframe\">\n  <thead>\n    <tr style=\"text-align: right;\">\n      <th></th>\n      <th>bedrooms</th>\n      <th>bathrooms</th>\n      <th>area</th>\n      <th>hoa</th>\n      <th>parking</th>\n      <th>year</th>\n      <th>floor</th>\n      <th>exposure</th>\n      <th>elevator</th>\n      <th>price</th>\n      <th>wpm</th>\n    </tr>\n  </thead>\n  <tbody>\n    <tr>\n      <th>4</th>\n      <td>55.0</td>\n      <td>100.0</td>\n      <td>60.0</td>\n      <td>100.000000</td>\n      <td>100.0</td>\n      <td>61.328125</td>\n      <td>100.0</td>\n      <td>100.0</td>\n      <td>100.0</td>\n      <td>40.201923</td>\n      <td>5.034157e+07</td>\n    </tr>\n    <tr>\n      <th>2</th>\n      <td>100.0</td>\n      <td>100.0</td>\n      <td>100.0</td>\n      <td>10.000000</td>\n      <td>10.0</td>\n      <td>100.000000</td>\n      <td>25.0</td>\n      <td>100.0</td>\n      <td>10.0</td>\n      <td>100.000000</td>\n      <td>4.000000e+07</td>\n    </tr>\n    <tr>\n      <th>0</th>\n      <td>10.0</td>\n      <td>10.0</td>\n      <td>15.0</td>\n      <td>53.304982</td>\n      <td>100.0</td>\n      <td>51.484375</td>\n      <td>40.0</td>\n      <td>10.0</td>\n      <td>100.0</td>\n      <td>10.000000</td>\n      <td>3.621921e+05</td>\n    </tr>\n    <tr>\n      <th>3</th>\n      <td>10.0</td>\n      <td>10.0</td>\n      <td>38.5</td>\n      <td>39.963548</td>\n      <td>100.0</td>\n      <td>10.000000</td>\n      <td>25.0</td>\n      <td>10.0</td>\n      <td>100.0</td>\n      <td>40.288462</td>\n      <td>9.564802e+04</td>\n    </tr>\n    <tr>\n      <th>1</th>\n      <td>10.0</td>\n      <td>10.0</td>\n      <td>10.0</td>\n      <td>18.748481</td>\n      <td>10.0</td>\n      <td>12.109375</td>\n      <td>10.0</td>\n      <td>10.0</td>\n      <td>10.0</td>\n      <td>30.769231</td>\n      <td>2.099128e+03</td>\n    </tr>\n  </tbody>\n</table>\n</div>"
     },
     "metadata": {},
     "execution_count": 14
    }
   ],
   "source": [
    "df['wpm'] = df.apply(lambda r: wpm(r, weights), axis=1)\n",
    "df.sort_values(by='wpm', ascending=False)"
   ]
  },
  {
   "cell_type": "code",
   "execution_count": 15,
   "metadata": {},
   "outputs": [
    {
     "output_type": "execute_result",
     "data": {
      "text/plain": "   bedrooms  bathrooms  area    hoa  parking  year  floor exposure elevator  \\\n4         2          2  1200  973.0        1  1965      8        E      Yes   \n2         3          2  1600  150.0        0  2020      3        E       No   \n0         1          1   750  546.0        1  1951      4        W      Yes   \n3         1          1   985  424.0        1  1892      3        W      Yes   \n1         1          1   700  230.0        0  1895      2        W       No   \n\n      price           wpm  \n4  209900.0  5.034157e+07  \n2  279000.0  4.000000e+07  \n0  175000.0  3.621921e+05  \n3  210000.0  9.564802e+04  \n1  199000.0  2.099128e+03  ",
      "text/html": "<div>\n<style scoped>\n    .dataframe tbody tr th:only-of-type {\n        vertical-align: middle;\n    }\n\n    .dataframe tbody tr th {\n        vertical-align: top;\n    }\n\n    .dataframe thead th {\n        text-align: right;\n    }\n</style>\n<table border=\"1\" class=\"dataframe\">\n  <thead>\n    <tr style=\"text-align: right;\">\n      <th></th>\n      <th>bedrooms</th>\n      <th>bathrooms</th>\n      <th>area</th>\n      <th>hoa</th>\n      <th>parking</th>\n      <th>year</th>\n      <th>floor</th>\n      <th>exposure</th>\n      <th>elevator</th>\n      <th>price</th>\n      <th>wpm</th>\n    </tr>\n  </thead>\n  <tbody>\n    <tr>\n      <th>4</th>\n      <td>2</td>\n      <td>2</td>\n      <td>1200</td>\n      <td>973.0</td>\n      <td>1</td>\n      <td>1965</td>\n      <td>8</td>\n      <td>E</td>\n      <td>Yes</td>\n      <td>209900.0</td>\n      <td>5.034157e+07</td>\n    </tr>\n    <tr>\n      <th>2</th>\n      <td>3</td>\n      <td>2</td>\n      <td>1600</td>\n      <td>150.0</td>\n      <td>0</td>\n      <td>2020</td>\n      <td>3</td>\n      <td>E</td>\n      <td>No</td>\n      <td>279000.0</td>\n      <td>4.000000e+07</td>\n    </tr>\n    <tr>\n      <th>0</th>\n      <td>1</td>\n      <td>1</td>\n      <td>750</td>\n      <td>546.0</td>\n      <td>1</td>\n      <td>1951</td>\n      <td>4</td>\n      <td>W</td>\n      <td>Yes</td>\n      <td>175000.0</td>\n      <td>3.621921e+05</td>\n    </tr>\n    <tr>\n      <th>3</th>\n      <td>1</td>\n      <td>1</td>\n      <td>985</td>\n      <td>424.0</td>\n      <td>1</td>\n      <td>1892</td>\n      <td>3</td>\n      <td>W</td>\n      <td>Yes</td>\n      <td>210000.0</td>\n      <td>9.564802e+04</td>\n    </tr>\n    <tr>\n      <th>1</th>\n      <td>1</td>\n      <td>1</td>\n      <td>700</td>\n      <td>230.0</td>\n      <td>0</td>\n      <td>1895</td>\n      <td>2</td>\n      <td>W</td>\n      <td>No</td>\n      <td>199000.0</td>\n      <td>2.099128e+03</td>\n    </tr>\n  </tbody>\n</table>\n</div>"
     },
     "metadata": {},
     "execution_count": 15
    }
   ],
   "source": [
    "pd.merge(raw, df['wpm'], left_index=True, right_index=True) \\\n",
    "  .sort_values(by='wpm', ascending=False)"
   ]
  },
  {
   "cell_type": "code",
   "execution_count": 16,
   "metadata": {},
   "outputs": [],
   "source": [
    "weights = {'bedrooms'     :   1.,\n",
    "           'bathrooms'     :  1.,\n",
    "           'area'          :  1.,\n",
    "           'hoa'           : -3.,\n",
    "           'parking'      :   5.,\n",
    "           'year'          :  1.,\n",
    "           'floor'         : -1.,\n",
    "           'price'         : -5.,\n",
    "           'exposure_east' :  1.,\n",
    "           'has_elevator'  :  5.\n",
    "}"
   ]
  },
  {
   "cell_type": "code",
   "execution_count": 17,
   "metadata": {},
   "outputs": [
    {
     "output_type": "execute_result",
     "data": {
      "text/plain": "   bedrooms  bathrooms   area         hoa  parking        year  floor  \\\n0      10.0       10.0   15.0   53.304982    100.0   51.484375   40.0   \n4      55.0      100.0   60.0  100.000000    100.0   61.328125  100.0   \n3      10.0       10.0   38.5   39.963548    100.0   10.000000   25.0   \n2     100.0      100.0  100.0   10.000000     10.0  100.000000   25.0   \n1      10.0       10.0   10.0   18.748481     10.0   12.109375   10.0   \n\n   exposure  elevator       price          wpm  \n0      10.0     100.0   10.000000  1274.686291  \n4     100.0     100.0   40.201923    19.272564  \n3      10.0     100.0   40.288462     2.273135  \n2     100.0      10.0  100.000000     0.040000  \n1      10.0      10.0   30.769231     0.000666  ",
      "text/html": "<div>\n<style scoped>\n    .dataframe tbody tr th:only-of-type {\n        vertical-align: middle;\n    }\n\n    .dataframe tbody tr th {\n        vertical-align: top;\n    }\n\n    .dataframe thead th {\n        text-align: right;\n    }\n</style>\n<table border=\"1\" class=\"dataframe\">\n  <thead>\n    <tr style=\"text-align: right;\">\n      <th></th>\n      <th>bedrooms</th>\n      <th>bathrooms</th>\n      <th>area</th>\n      <th>hoa</th>\n      <th>parking</th>\n      <th>year</th>\n      <th>floor</th>\n      <th>exposure</th>\n      <th>elevator</th>\n      <th>price</th>\n      <th>wpm</th>\n    </tr>\n  </thead>\n  <tbody>\n    <tr>\n      <th>0</th>\n      <td>10.0</td>\n      <td>10.0</td>\n      <td>15.0</td>\n      <td>53.304982</td>\n      <td>100.0</td>\n      <td>51.484375</td>\n      <td>40.0</td>\n      <td>10.0</td>\n      <td>100.0</td>\n      <td>10.000000</td>\n      <td>1274.686291</td>\n    </tr>\n    <tr>\n      <th>4</th>\n      <td>55.0</td>\n      <td>100.0</td>\n      <td>60.0</td>\n      <td>100.000000</td>\n      <td>100.0</td>\n      <td>61.328125</td>\n      <td>100.0</td>\n      <td>100.0</td>\n      <td>100.0</td>\n      <td>40.201923</td>\n      <td>19.272564</td>\n    </tr>\n    <tr>\n      <th>3</th>\n      <td>10.0</td>\n      <td>10.0</td>\n      <td>38.5</td>\n      <td>39.963548</td>\n      <td>100.0</td>\n      <td>10.000000</td>\n      <td>25.0</td>\n      <td>10.0</td>\n      <td>100.0</td>\n      <td>40.288462</td>\n      <td>2.273135</td>\n    </tr>\n    <tr>\n      <th>2</th>\n      <td>100.0</td>\n      <td>100.0</td>\n      <td>100.0</td>\n      <td>10.000000</td>\n      <td>10.0</td>\n      <td>100.000000</td>\n      <td>25.0</td>\n      <td>100.0</td>\n      <td>10.0</td>\n      <td>100.000000</td>\n      <td>0.040000</td>\n    </tr>\n    <tr>\n      <th>1</th>\n      <td>10.0</td>\n      <td>10.0</td>\n      <td>10.0</td>\n      <td>18.748481</td>\n      <td>10.0</td>\n      <td>12.109375</td>\n      <td>10.0</td>\n      <td>10.0</td>\n      <td>10.0</td>\n      <td>30.769231</td>\n      <td>0.000666</td>\n    </tr>\n  </tbody>\n</table>\n</div>"
     },
     "metadata": {},
     "execution_count": 17
    }
   ],
   "source": [
    "df['wpm'] = df.apply(lambda r: wpm(r, weights), axis=1)\n",
    "df.sort_values(by='wpm', ascending=False)"
   ]
  },
  {
   "cell_type": "code",
   "execution_count": 18,
   "metadata": {},
   "outputs": [
    {
     "output_type": "execute_result",
     "data": {
      "text/plain": "   bedrooms  bathrooms  area    hoa  parking  year  floor exposure elevator  \\\n0         1          1   750  546.0        1  1951      4        W      Yes   \n4         2          2  1200  973.0        1  1965      8        E      Yes   \n3         1          1   985  424.0        1  1892      3        W      Yes   \n2         3          2  1600  150.0        0  2020      3        E       No   \n1         1          1   700  230.0        0  1895      2        W       No   \n\n      price          wpm  \n0  175000.0  1274.686291  \n4  209900.0    19.272564  \n3  210000.0     2.273135  \n2  279000.0     0.040000  \n1  199000.0     0.000666  ",
      "text/html": "<div>\n<style scoped>\n    .dataframe tbody tr th:only-of-type {\n        vertical-align: middle;\n    }\n\n    .dataframe tbody tr th {\n        vertical-align: top;\n    }\n\n    .dataframe thead th {\n        text-align: right;\n    }\n</style>\n<table border=\"1\" class=\"dataframe\">\n  <thead>\n    <tr style=\"text-align: right;\">\n      <th></th>\n      <th>bedrooms</th>\n      <th>bathrooms</th>\n      <th>area</th>\n      <th>hoa</th>\n      <th>parking</th>\n      <th>year</th>\n      <th>floor</th>\n      <th>exposure</th>\n      <th>elevator</th>\n      <th>price</th>\n      <th>wpm</th>\n    </tr>\n  </thead>\n  <tbody>\n    <tr>\n      <th>0</th>\n      <td>1</td>\n      <td>1</td>\n      <td>750</td>\n      <td>546.0</td>\n      <td>1</td>\n      <td>1951</td>\n      <td>4</td>\n      <td>W</td>\n      <td>Yes</td>\n      <td>175000.0</td>\n      <td>1274.686291</td>\n    </tr>\n    <tr>\n      <th>4</th>\n      <td>2</td>\n      <td>2</td>\n      <td>1200</td>\n      <td>973.0</td>\n      <td>1</td>\n      <td>1965</td>\n      <td>8</td>\n      <td>E</td>\n      <td>Yes</td>\n      <td>209900.0</td>\n      <td>19.272564</td>\n    </tr>\n    <tr>\n      <th>3</th>\n      <td>1</td>\n      <td>1</td>\n      <td>985</td>\n      <td>424.0</td>\n      <td>1</td>\n      <td>1892</td>\n      <td>3</td>\n      <td>W</td>\n      <td>Yes</td>\n      <td>210000.0</td>\n      <td>2.273135</td>\n    </tr>\n    <tr>\n      <th>2</th>\n      <td>3</td>\n      <td>2</td>\n      <td>1600</td>\n      <td>150.0</td>\n      <td>0</td>\n      <td>2020</td>\n      <td>3</td>\n      <td>E</td>\n      <td>No</td>\n      <td>279000.0</td>\n      <td>0.040000</td>\n    </tr>\n    <tr>\n      <th>1</th>\n      <td>1</td>\n      <td>1</td>\n      <td>700</td>\n      <td>230.0</td>\n      <td>0</td>\n      <td>1895</td>\n      <td>2</td>\n      <td>W</td>\n      <td>No</td>\n      <td>199000.0</td>\n      <td>0.000666</td>\n    </tr>\n  </tbody>\n</table>\n</div>"
     },
     "metadata": {},
     "execution_count": 18
    }
   ],
   "source": [
    "pd.merge(raw, df['wpm'], left_index=True, right_index=True) \\\n",
    "  .sort_values(by='wpm', ascending=False)"
   ]
  }
 ],
 "metadata": {
  "language_info": {
   "name": "python",
   "codemirror_mode": {
    "name": "ipython",
    "version": 3
   },
   "version": "3.6.9-final"
  },
  "orig_nbformat": 2,
  "file_extension": ".py",
  "mimetype": "text/x-python",
  "name": "python",
  "npconvert_exporter": "python",
  "pygments_lexer": "ipython3",
  "version": 3,
  "kernelspec": {
   "name": "python36964bitvenvvirtualenv9e3b3cd1d0614a3991e81ba2d30ca3e9",
   "display_name": "Python 3.6.9 64-bit ('venv': virtualenv)"
  }
 },
 "nbformat": 4,
 "nbformat_minor": 2
}